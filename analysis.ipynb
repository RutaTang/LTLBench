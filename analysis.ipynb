{
 "cells": [
  {
   "metadata": {
    "ExecuteTime": {
     "end_time": "2024-07-03T15:48:35.338988Z",
     "start_time": "2024-07-03T15:48:35.323820Z"
    }
   },
   "cell_type": "code",
   "source": [
    "import os\n",
    "import warnings\n",
    "\n",
    "import numpy as np\n",
    "import pandas as pd\n",
    "import matplotlib.pyplot as plt\n",
    "import networkx as nx\n",
    "import io\n",
    "\n",
    "from src.utils.figure import plot_lines\n",
    "from src.utils.file import get_data_file_path\n",
    "from src.utils.file import get_evaluation_file_path\n",
    "from src.utils.metrics import metrics\n",
    "\n",
    "%load_ext autoreload\n",
    "%autoreload 2"
   ],
   "id": "fec3efec24f89302",
   "outputs": [
    {
     "name": "stdout",
     "output_type": "stream",
     "text": [
      "The autoreload extension is already loaded. To reload it, use:\n",
      "  %reload_ext autoreload\n"
     ]
    }
   ],
   "execution_count": 3150
  },
  {
   "metadata": {},
   "cell_type": "markdown",
   "source": "# Data Presentation",
   "id": "bd6097bc71146be7"
  },
  {
   "metadata": {
    "ExecuteTime": {
     "end_time": "2024-07-03T15:48:35.513815Z",
     "start_time": "2024-07-03T15:48:35.415984Z"
    }
   },
   "cell_type": "code",
   "source": [
    "presentation_row = 150\n",
    "path = get_data_file_path(event_n=3, formula_n=3, count=2000)\n",
    "data = pd.read_csv(path)"
   ],
   "id": "6ca8f4b03b2ea0ee",
   "outputs": [
    {
     "ename": "FileNotFoundError",
     "evalue": "[Errno 2] No such file or directory: './results/data/2000_3_events_3_formula_len.csv'",
     "output_type": "error",
     "traceback": [
      "\u001B[0;31m---------------------------------------------------------------------------\u001B[0m",
      "\u001B[0;31mFileNotFoundError\u001B[0m                         Traceback (most recent call last)",
      "Cell \u001B[0;32mIn[3151], line 3\u001B[0m\n\u001B[1;32m      1\u001B[0m presentation_row \u001B[38;5;241m=\u001B[39m \u001B[38;5;241m150\u001B[39m\n\u001B[1;32m      2\u001B[0m path \u001B[38;5;241m=\u001B[39m get_data_file_path(event_n\u001B[38;5;241m=\u001B[39m\u001B[38;5;241m3\u001B[39m, formula_n\u001B[38;5;241m=\u001B[39m\u001B[38;5;241m3\u001B[39m, count\u001B[38;5;241m=\u001B[39m\u001B[38;5;241m2000\u001B[39m)\n\u001B[0;32m----> 3\u001B[0m data \u001B[38;5;241m=\u001B[39m \u001B[43mpd\u001B[49m\u001B[38;5;241;43m.\u001B[39;49m\u001B[43mread_csv\u001B[49m\u001B[43m(\u001B[49m\u001B[43mpath\u001B[49m\u001B[43m)\u001B[49m\n",
      "File \u001B[0;32m~/Local/Research/LTL-Evaluation-Benchmark/.venv/lib/python3.12/site-packages/pandas/io/parsers/readers.py:1026\u001B[0m, in \u001B[0;36mread_csv\u001B[0;34m(filepath_or_buffer, sep, delimiter, header, names, index_col, usecols, dtype, engine, converters, true_values, false_values, skipinitialspace, skiprows, skipfooter, nrows, na_values, keep_default_na, na_filter, verbose, skip_blank_lines, parse_dates, infer_datetime_format, keep_date_col, date_parser, date_format, dayfirst, cache_dates, iterator, chunksize, compression, thousands, decimal, lineterminator, quotechar, quoting, doublequote, escapechar, comment, encoding, encoding_errors, dialect, on_bad_lines, delim_whitespace, low_memory, memory_map, float_precision, storage_options, dtype_backend)\u001B[0m\n\u001B[1;32m   1013\u001B[0m kwds_defaults \u001B[38;5;241m=\u001B[39m _refine_defaults_read(\n\u001B[1;32m   1014\u001B[0m     dialect,\n\u001B[1;32m   1015\u001B[0m     delimiter,\n\u001B[0;32m   (...)\u001B[0m\n\u001B[1;32m   1022\u001B[0m     dtype_backend\u001B[38;5;241m=\u001B[39mdtype_backend,\n\u001B[1;32m   1023\u001B[0m )\n\u001B[1;32m   1024\u001B[0m kwds\u001B[38;5;241m.\u001B[39mupdate(kwds_defaults)\n\u001B[0;32m-> 1026\u001B[0m \u001B[38;5;28;01mreturn\u001B[39;00m \u001B[43m_read\u001B[49m\u001B[43m(\u001B[49m\u001B[43mfilepath_or_buffer\u001B[49m\u001B[43m,\u001B[49m\u001B[43m \u001B[49m\u001B[43mkwds\u001B[49m\u001B[43m)\u001B[49m\n",
      "File \u001B[0;32m~/Local/Research/LTL-Evaluation-Benchmark/.venv/lib/python3.12/site-packages/pandas/io/parsers/readers.py:620\u001B[0m, in \u001B[0;36m_read\u001B[0;34m(filepath_or_buffer, kwds)\u001B[0m\n\u001B[1;32m    617\u001B[0m _validate_names(kwds\u001B[38;5;241m.\u001B[39mget(\u001B[38;5;124m\"\u001B[39m\u001B[38;5;124mnames\u001B[39m\u001B[38;5;124m\"\u001B[39m, \u001B[38;5;28;01mNone\u001B[39;00m))\n\u001B[1;32m    619\u001B[0m \u001B[38;5;66;03m# Create the parser.\u001B[39;00m\n\u001B[0;32m--> 620\u001B[0m parser \u001B[38;5;241m=\u001B[39m \u001B[43mTextFileReader\u001B[49m\u001B[43m(\u001B[49m\u001B[43mfilepath_or_buffer\u001B[49m\u001B[43m,\u001B[49m\u001B[43m \u001B[49m\u001B[38;5;241;43m*\u001B[39;49m\u001B[38;5;241;43m*\u001B[39;49m\u001B[43mkwds\u001B[49m\u001B[43m)\u001B[49m\n\u001B[1;32m    622\u001B[0m \u001B[38;5;28;01mif\u001B[39;00m chunksize \u001B[38;5;129;01mor\u001B[39;00m iterator:\n\u001B[1;32m    623\u001B[0m     \u001B[38;5;28;01mreturn\u001B[39;00m parser\n",
      "File \u001B[0;32m~/Local/Research/LTL-Evaluation-Benchmark/.venv/lib/python3.12/site-packages/pandas/io/parsers/readers.py:1620\u001B[0m, in \u001B[0;36mTextFileReader.__init__\u001B[0;34m(self, f, engine, **kwds)\u001B[0m\n\u001B[1;32m   1617\u001B[0m     \u001B[38;5;28mself\u001B[39m\u001B[38;5;241m.\u001B[39moptions[\u001B[38;5;124m\"\u001B[39m\u001B[38;5;124mhas_index_names\u001B[39m\u001B[38;5;124m\"\u001B[39m] \u001B[38;5;241m=\u001B[39m kwds[\u001B[38;5;124m\"\u001B[39m\u001B[38;5;124mhas_index_names\u001B[39m\u001B[38;5;124m\"\u001B[39m]\n\u001B[1;32m   1619\u001B[0m \u001B[38;5;28mself\u001B[39m\u001B[38;5;241m.\u001B[39mhandles: IOHandles \u001B[38;5;241m|\u001B[39m \u001B[38;5;28;01mNone\u001B[39;00m \u001B[38;5;241m=\u001B[39m \u001B[38;5;28;01mNone\u001B[39;00m\n\u001B[0;32m-> 1620\u001B[0m \u001B[38;5;28mself\u001B[39m\u001B[38;5;241m.\u001B[39m_engine \u001B[38;5;241m=\u001B[39m \u001B[38;5;28;43mself\u001B[39;49m\u001B[38;5;241;43m.\u001B[39;49m\u001B[43m_make_engine\u001B[49m\u001B[43m(\u001B[49m\u001B[43mf\u001B[49m\u001B[43m,\u001B[49m\u001B[43m \u001B[49m\u001B[38;5;28;43mself\u001B[39;49m\u001B[38;5;241;43m.\u001B[39;49m\u001B[43mengine\u001B[49m\u001B[43m)\u001B[49m\n",
      "File \u001B[0;32m~/Local/Research/LTL-Evaluation-Benchmark/.venv/lib/python3.12/site-packages/pandas/io/parsers/readers.py:1880\u001B[0m, in \u001B[0;36mTextFileReader._make_engine\u001B[0;34m(self, f, engine)\u001B[0m\n\u001B[1;32m   1878\u001B[0m     \u001B[38;5;28;01mif\u001B[39;00m \u001B[38;5;124m\"\u001B[39m\u001B[38;5;124mb\u001B[39m\u001B[38;5;124m\"\u001B[39m \u001B[38;5;129;01mnot\u001B[39;00m \u001B[38;5;129;01min\u001B[39;00m mode:\n\u001B[1;32m   1879\u001B[0m         mode \u001B[38;5;241m+\u001B[39m\u001B[38;5;241m=\u001B[39m \u001B[38;5;124m\"\u001B[39m\u001B[38;5;124mb\u001B[39m\u001B[38;5;124m\"\u001B[39m\n\u001B[0;32m-> 1880\u001B[0m \u001B[38;5;28mself\u001B[39m\u001B[38;5;241m.\u001B[39mhandles \u001B[38;5;241m=\u001B[39m \u001B[43mget_handle\u001B[49m\u001B[43m(\u001B[49m\n\u001B[1;32m   1881\u001B[0m \u001B[43m    \u001B[49m\u001B[43mf\u001B[49m\u001B[43m,\u001B[49m\n\u001B[1;32m   1882\u001B[0m \u001B[43m    \u001B[49m\u001B[43mmode\u001B[49m\u001B[43m,\u001B[49m\n\u001B[1;32m   1883\u001B[0m \u001B[43m    \u001B[49m\u001B[43mencoding\u001B[49m\u001B[38;5;241;43m=\u001B[39;49m\u001B[38;5;28;43mself\u001B[39;49m\u001B[38;5;241;43m.\u001B[39;49m\u001B[43moptions\u001B[49m\u001B[38;5;241;43m.\u001B[39;49m\u001B[43mget\u001B[49m\u001B[43m(\u001B[49m\u001B[38;5;124;43m\"\u001B[39;49m\u001B[38;5;124;43mencoding\u001B[39;49m\u001B[38;5;124;43m\"\u001B[39;49m\u001B[43m,\u001B[49m\u001B[43m \u001B[49m\u001B[38;5;28;43;01mNone\u001B[39;49;00m\u001B[43m)\u001B[49m\u001B[43m,\u001B[49m\n\u001B[1;32m   1884\u001B[0m \u001B[43m    \u001B[49m\u001B[43mcompression\u001B[49m\u001B[38;5;241;43m=\u001B[39;49m\u001B[38;5;28;43mself\u001B[39;49m\u001B[38;5;241;43m.\u001B[39;49m\u001B[43moptions\u001B[49m\u001B[38;5;241;43m.\u001B[39;49m\u001B[43mget\u001B[49m\u001B[43m(\u001B[49m\u001B[38;5;124;43m\"\u001B[39;49m\u001B[38;5;124;43mcompression\u001B[39;49m\u001B[38;5;124;43m\"\u001B[39;49m\u001B[43m,\u001B[49m\u001B[43m \u001B[49m\u001B[38;5;28;43;01mNone\u001B[39;49;00m\u001B[43m)\u001B[49m\u001B[43m,\u001B[49m\n\u001B[1;32m   1885\u001B[0m \u001B[43m    \u001B[49m\u001B[43mmemory_map\u001B[49m\u001B[38;5;241;43m=\u001B[39;49m\u001B[38;5;28;43mself\u001B[39;49m\u001B[38;5;241;43m.\u001B[39;49m\u001B[43moptions\u001B[49m\u001B[38;5;241;43m.\u001B[39;49m\u001B[43mget\u001B[49m\u001B[43m(\u001B[49m\u001B[38;5;124;43m\"\u001B[39;49m\u001B[38;5;124;43mmemory_map\u001B[39;49m\u001B[38;5;124;43m\"\u001B[39;49m\u001B[43m,\u001B[49m\u001B[43m \u001B[49m\u001B[38;5;28;43;01mFalse\u001B[39;49;00m\u001B[43m)\u001B[49m\u001B[43m,\u001B[49m\n\u001B[1;32m   1886\u001B[0m \u001B[43m    \u001B[49m\u001B[43mis_text\u001B[49m\u001B[38;5;241;43m=\u001B[39;49m\u001B[43mis_text\u001B[49m\u001B[43m,\u001B[49m\n\u001B[1;32m   1887\u001B[0m \u001B[43m    \u001B[49m\u001B[43merrors\u001B[49m\u001B[38;5;241;43m=\u001B[39;49m\u001B[38;5;28;43mself\u001B[39;49m\u001B[38;5;241;43m.\u001B[39;49m\u001B[43moptions\u001B[49m\u001B[38;5;241;43m.\u001B[39;49m\u001B[43mget\u001B[49m\u001B[43m(\u001B[49m\u001B[38;5;124;43m\"\u001B[39;49m\u001B[38;5;124;43mencoding_errors\u001B[39;49m\u001B[38;5;124;43m\"\u001B[39;49m\u001B[43m,\u001B[49m\u001B[43m \u001B[49m\u001B[38;5;124;43m\"\u001B[39;49m\u001B[38;5;124;43mstrict\u001B[39;49m\u001B[38;5;124;43m\"\u001B[39;49m\u001B[43m)\u001B[49m\u001B[43m,\u001B[49m\n\u001B[1;32m   1888\u001B[0m \u001B[43m    \u001B[49m\u001B[43mstorage_options\u001B[49m\u001B[38;5;241;43m=\u001B[39;49m\u001B[38;5;28;43mself\u001B[39;49m\u001B[38;5;241;43m.\u001B[39;49m\u001B[43moptions\u001B[49m\u001B[38;5;241;43m.\u001B[39;49m\u001B[43mget\u001B[49m\u001B[43m(\u001B[49m\u001B[38;5;124;43m\"\u001B[39;49m\u001B[38;5;124;43mstorage_options\u001B[39;49m\u001B[38;5;124;43m\"\u001B[39;49m\u001B[43m,\u001B[49m\u001B[43m \u001B[49m\u001B[38;5;28;43;01mNone\u001B[39;49;00m\u001B[43m)\u001B[49m\u001B[43m,\u001B[49m\n\u001B[1;32m   1889\u001B[0m \u001B[43m\u001B[49m\u001B[43m)\u001B[49m\n\u001B[1;32m   1890\u001B[0m \u001B[38;5;28;01massert\u001B[39;00m \u001B[38;5;28mself\u001B[39m\u001B[38;5;241m.\u001B[39mhandles \u001B[38;5;129;01mis\u001B[39;00m \u001B[38;5;129;01mnot\u001B[39;00m \u001B[38;5;28;01mNone\u001B[39;00m\n\u001B[1;32m   1891\u001B[0m f \u001B[38;5;241m=\u001B[39m \u001B[38;5;28mself\u001B[39m\u001B[38;5;241m.\u001B[39mhandles\u001B[38;5;241m.\u001B[39mhandle\n",
      "File \u001B[0;32m~/Local/Research/LTL-Evaluation-Benchmark/.venv/lib/python3.12/site-packages/pandas/io/common.py:873\u001B[0m, in \u001B[0;36mget_handle\u001B[0;34m(path_or_buf, mode, encoding, compression, memory_map, is_text, errors, storage_options)\u001B[0m\n\u001B[1;32m    868\u001B[0m \u001B[38;5;28;01melif\u001B[39;00m \u001B[38;5;28misinstance\u001B[39m(handle, \u001B[38;5;28mstr\u001B[39m):\n\u001B[1;32m    869\u001B[0m     \u001B[38;5;66;03m# Check whether the filename is to be opened in binary mode.\u001B[39;00m\n\u001B[1;32m    870\u001B[0m     \u001B[38;5;66;03m# Binary mode does not support 'encoding' and 'newline'.\u001B[39;00m\n\u001B[1;32m    871\u001B[0m     \u001B[38;5;28;01mif\u001B[39;00m ioargs\u001B[38;5;241m.\u001B[39mencoding \u001B[38;5;129;01mand\u001B[39;00m \u001B[38;5;124m\"\u001B[39m\u001B[38;5;124mb\u001B[39m\u001B[38;5;124m\"\u001B[39m \u001B[38;5;129;01mnot\u001B[39;00m \u001B[38;5;129;01min\u001B[39;00m ioargs\u001B[38;5;241m.\u001B[39mmode:\n\u001B[1;32m    872\u001B[0m         \u001B[38;5;66;03m# Encoding\u001B[39;00m\n\u001B[0;32m--> 873\u001B[0m         handle \u001B[38;5;241m=\u001B[39m \u001B[38;5;28;43mopen\u001B[39;49m\u001B[43m(\u001B[49m\n\u001B[1;32m    874\u001B[0m \u001B[43m            \u001B[49m\u001B[43mhandle\u001B[49m\u001B[43m,\u001B[49m\n\u001B[1;32m    875\u001B[0m \u001B[43m            \u001B[49m\u001B[43mioargs\u001B[49m\u001B[38;5;241;43m.\u001B[39;49m\u001B[43mmode\u001B[49m\u001B[43m,\u001B[49m\n\u001B[1;32m    876\u001B[0m \u001B[43m            \u001B[49m\u001B[43mencoding\u001B[49m\u001B[38;5;241;43m=\u001B[39;49m\u001B[43mioargs\u001B[49m\u001B[38;5;241;43m.\u001B[39;49m\u001B[43mencoding\u001B[49m\u001B[43m,\u001B[49m\n\u001B[1;32m    877\u001B[0m \u001B[43m            \u001B[49m\u001B[43merrors\u001B[49m\u001B[38;5;241;43m=\u001B[39;49m\u001B[43merrors\u001B[49m\u001B[43m,\u001B[49m\n\u001B[1;32m    878\u001B[0m \u001B[43m            \u001B[49m\u001B[43mnewline\u001B[49m\u001B[38;5;241;43m=\u001B[39;49m\u001B[38;5;124;43m\"\u001B[39;49m\u001B[38;5;124;43m\"\u001B[39;49m\u001B[43m,\u001B[49m\n\u001B[1;32m    879\u001B[0m \u001B[43m        \u001B[49m\u001B[43m)\u001B[49m\n\u001B[1;32m    880\u001B[0m     \u001B[38;5;28;01melse\u001B[39;00m:\n\u001B[1;32m    881\u001B[0m         \u001B[38;5;66;03m# Binary mode\u001B[39;00m\n\u001B[1;32m    882\u001B[0m         handle \u001B[38;5;241m=\u001B[39m \u001B[38;5;28mopen\u001B[39m(handle, ioargs\u001B[38;5;241m.\u001B[39mmode)\n",
      "\u001B[0;31mFileNotFoundError\u001B[0m: [Errno 2] No such file or directory: './results/data/2000_3_events_3_formula_len.csv'"
     ]
    }
   ],
   "execution_count": 3151
  },
  {
   "metadata": {},
   "cell_type": "code",
   "source": "data.head()",
   "id": "1b93c24a62ca25e4",
   "outputs": [],
   "execution_count": null
  },
  {
   "metadata": {},
   "cell_type": "code",
   "source": "data.info()",
   "id": "5c45eb8ce4621f26",
   "outputs": [],
   "execution_count": null
  },
  {
   "metadata": {},
   "cell_type": "code",
   "source": [
    "# Context\n",
    "print(data.loc[presentation_row, 'context'])"
   ],
   "id": "9ab13c9cce53dfd0",
   "outputs": [],
   "execution_count": null
  },
  {
   "metadata": {},
   "cell_type": "code",
   "source": [
    "# Query \n",
    "print(data.loc[presentation_row, 'query'])"
   ],
   "id": "a798c9fb4bf99317",
   "outputs": [],
   "execution_count": null
  },
  {
   "metadata": {},
   "cell_type": "code",
   "source": [
    "# Question\n",
    "print(data.loc[presentation_row, 'question'])"
   ],
   "id": "9d489038d8904345",
   "outputs": [],
   "execution_count": null
  },
  {
   "metadata": {},
   "cell_type": "code",
   "source": [
    "# Code\n",
    "print(data.loc[presentation_row, 'code'])"
   ],
   "id": "86eb1db67f024edd",
   "outputs": [],
   "execution_count": null
  },
  {
   "metadata": {},
   "cell_type": "code",
   "source": [
    "# Formula\n",
    "print(data.loc[presentation_row, 'formula'])"
   ],
   "id": "169528b8a773e868",
   "outputs": [],
   "execution_count": null
  },
  {
   "metadata": {},
   "cell_type": "code",
   "source": [
    "# Plot Graph\n",
    "graph = nx.read_graphml(io.StringIO(data.loc[presentation_row, 'graph']))\n",
    "plt.figure(figsize=(6, 3))\n",
    "plt.xlim(-1.35,1.35)\n",
    "plt.ylim(-0.5,1.5)\n",
    "pos = {\"event1\": (0, 1), \"event2\": (1, 0), \"event3\": (-1,0)}\n",
    "nx.draw(graph, pos, with_labels=True, node_size=3000, node_color='skyblue')\n",
    "plt.show()"
   ],
   "id": "dc4a29f03b7c7aa3",
   "outputs": [],
   "execution_count": null
  },
  {
   "metadata": {},
   "cell_type": "code",
   "source": [
    "# Answer\n",
    "print(data.loc[presentation_row, 'answer'])"
   ],
   "id": "6c7c8f9aa505ed0f",
   "outputs": [],
   "execution_count": null
  },
  {
   "metadata": {},
   "cell_type": "markdown",
   "source": "# Prediction Presentation\n",
   "id": "4c2cc757c7d456ee"
  },
  {
   "metadata": {},
   "cell_type": "code",
   "source": [
    "path = get_evaluation_file_path(event_n=3, formula_n=3, count=2000, model=\"gpt-3.5-turbo\")\n",
    "data = pd.read_csv(path)"
   ],
   "id": "585c4441de6ceb67",
   "outputs": [],
   "execution_count": null
  },
  {
   "metadata": {},
   "cell_type": "code",
   "source": "data.head()",
   "id": "ca1ca3ca4a0977d6",
   "outputs": [],
   "execution_count": null
  },
  {
   "metadata": {},
   "cell_type": "code",
   "source": "data.info()",
   "id": "f2e310c4552335af",
   "outputs": [],
   "execution_count": null
  },
  {
   "metadata": {},
   "cell_type": "code",
   "source": [
    "data['answer'] = data['answer'].apply(lambda x: 1 if x else 0)\n",
    "data['prediction'] = data['prediction'].astype(int)"
   ],
   "id": "b134b846ea531066",
   "outputs": [],
   "execution_count": null
  },
  {
   "metadata": {},
   "cell_type": "code",
   "source": [
    "# Accuracy\n",
    "print(f'{len(data[data['answer'] == data['prediction']]) * 100 / len(data)}%')"
   ],
   "id": "aca2af3920d34c78",
   "outputs": [],
   "execution_count": null
  },
  {
   "metadata": {},
   "cell_type": "code",
   "source": [
    "# Prediction Distribution\n",
    "data['prediction'].value_counts()"
   ],
   "id": "a61f2fab30b3c25c",
   "outputs": [],
   "execution_count": null
  },
  {
   "metadata": {},
   "cell_type": "code",
   "source": [
    "# Precision, Recall, F1\n",
    "from sklearn.metrics import precision_score, recall_score, f1_score\n",
    "\n",
    "precision = precision_score(data['answer'], data['prediction'], average='macro')\n",
    "recall = recall_score(data['answer'], data['prediction'], average='macro')\n",
    "f1 = f1_score(data['answer'], data['prediction'], average='macro')\n",
    "\n",
    "print(\"Precision:\", precision)\n",
    "print(\"Recall:\", recall)\n",
    "print(\"F1:\", f1)"
   ],
   "id": "8ff8b67586b4ac70",
   "outputs": [],
   "execution_count": null
  },
  {
   "metadata": {},
   "cell_type": "markdown",
   "source": "# LLMs Evaluation",
   "id": "9f028127ac46ca0a"
  },
  {
   "metadata": {},
   "cell_type": "markdown",
   "source": "## 1. Event 3, Formula 3, Count 2000",
   "id": "e2ec0f58a7fe4fbb"
  },
  {
   "metadata": {},
   "cell_type": "code",
   "source": [
    "models = [\"gpt-3.5-turbo\", \"llama3:70b-instruct\", \"qwen:72b-chat\", \"gemma:7b-instruct\", \"qwen:7b-chat\",\n",
    "          \"mistral:7b-instruct\"]"
   ],
   "id": "14bd8f2b0242de9",
   "outputs": [],
   "execution_count": null
  },
  {
   "metadata": {},
   "cell_type": "code",
   "source": [
    "models_metrics = {}\n",
    "for model in models:\n",
    "    path = get_evaluation_file_path(event_n=3, formula_n=3, count=2000, model=model)\n",
    "    if not os.path.exists(path):\n",
    "        warnings.warn(f\"Evaluation file of model {model} does not exist.\", UserWarning)\n",
    "        continue\n",
    "    data = pd.read_csv(path)\n",
    "    data['answer'] = data['answer'].apply(lambda x: 1 if x else 0)\n",
    "    data['prediction'] = data['prediction'].astype(int)\n",
    "    models_metrics[model] = metrics(data)['raw']\n",
    "\n",
    "df = pd.DataFrame(models_metrics)\n",
    "df.transpose()"
   ],
   "id": "378176808f2761e8",
   "outputs": [],
   "execution_count": null
  },
  {
   "metadata": {},
   "cell_type": "code",
   "source": [
    "# large models mean\n",
    "df.transpose().loc[['gpt-3.5-turbo', 'llama3:70b-instruct', 'qwen:72b-chat']].mean()"
   ],
   "id": "4657d915bb77f8a7",
   "outputs": [],
   "execution_count": null
  },
  {
   "metadata": {},
   "cell_type": "code",
   "source": [
    "# small models mean\n",
    "df.transpose().loc[['gemma:7b-instruct', 'qwen:7b-chat', 'mistral:7b-instruct']].mean()"
   ],
   "id": "2a81f64ffea2a4b4",
   "outputs": [],
   "execution_count": null
  },
  {
   "metadata": {},
   "cell_type": "markdown",
   "source": "## 2. Event 2, Formula 1-9, Count 300",
   "id": "da38d5a4302e1588"
  },
  {
   "metadata": {},
   "cell_type": "code",
   "source": [
    "event_n = 2\n",
    "count = 300\n",
    "formulas = [1, 2, 3, 4, 5, 7, 9]\n",
    "\n",
    "models_data_df = pd.DataFrame()\n",
    "for model in models:\n",
    "    data = {}\n",
    "    for formula_n in formulas:\n",
    "        path = get_evaluation_file_path(event_n=event_n, formula_n=formula_n, count=count, model=model)\n",
    "        if not os.path.exists(path):\n",
    "            warnings.warn(f\"Evaluation file of model {model} does not exist.\", UserWarning)\n",
    "            continue\n",
    "        df = pd.read_csv(path)\n",
    "        df['answer'] = df['answer'].apply(lambda x: 1 if x else 0)\n",
    "        df['prediction'] = df['prediction'].astype(int)\n",
    "        data[formula_n] = metrics(df)['raw']\n",
    "    df = pd.DataFrame(data).transpose().reset_index().rename(columns={'index': 'number_of_operators'})\n",
    "    df['model'] = model\n",
    "    models_data_df = pd.concat([models_data_df, df], ignore_index=True)\n",
    "\n",
    "models_data_df"
   ],
   "id": "14915c782901acc1",
   "outputs": [],
   "execution_count": null
  },
  {
   "metadata": {},
   "cell_type": "markdown",
   "source": "### 2.1. Accuracy",
   "id": "fe4a31433a6751b1"
  },
  {
   "metadata": {},
   "cell_type": "code",
   "source": [
    "x_ticks = list(np.arange(1, 10))\n",
    "y_ticks = list(np.arange(0.5, 0.75, 0.05))\n",
    "plot_lines(models_data_df, x='number_of_operators', y='accuracy', z='model', title='Accuracy', x_label='Number of Operators',\n",
    "           y_label='Accuracy', x_ticks=x_ticks, y_ticks=y_ticks)"
   ],
   "id": "c92b008e3d9bea92",
   "outputs": [],
   "execution_count": null
  },
  {
   "metadata": {},
   "cell_type": "markdown",
   "source": "### 2.2. Precision",
   "id": "44f7fd93e38a0406"
  },
  {
   "metadata": {},
   "cell_type": "code",
   "source": [
    "x_ticks = list(np.arange(1, 10))\n",
    "y_ticks = list(np.arange(0.5, 0.75, 0.05))\n",
    "plot_lines(models_data_df, x='number_of_operators', y='precision', z='model', title='Precision', x_label='Number of Operators',\n",
    "           y_label='Precision', x_ticks=x_ticks, y_ticks=y_ticks)"
   ],
   "id": "b8de88fb238b7940",
   "outputs": [],
   "execution_count": null
  },
  {
   "metadata": {},
   "cell_type": "markdown",
   "source": "### 2.3. Recall",
   "id": "fb8153020860c78a"
  },
  {
   "metadata": {
    "ExecuteTime": {
     "end_time": "2024-07-03T15:48:35.572405Z",
     "start_time": "2024-07-03T15:48:35.530274Z"
    }
   },
   "cell_type": "code",
   "source": [
    "x_ticks = list(np.arange(1, 10))\n",
    "y_ticks = list(np.arange(0.5, 0.75, 0.05))\n",
    "plot_lines(models_data_df, x='number_of_operators', y='recall', z='model', title='Recall', x_label='Number of Operators',\n",
    "           y_label='Recall', x_ticks=x_ticks, y_ticks=y_ticks)"
   ],
   "id": "ce26393c928e103a",
   "outputs": [
    {
     "ename": "KeyError",
     "evalue": "'number_of_operators'",
     "output_type": "error",
     "traceback": [
      "\u001B[0;31m---------------------------------------------------------------------------\u001B[0m",
      "\u001B[0;31mKeyError\u001B[0m                                  Traceback (most recent call last)",
      "File \u001B[0;32m~/Local/Research/LTL-Evaluation-Benchmark/.venv/lib/python3.12/site-packages/pandas/core/indexes/base.py:3805\u001B[0m, in \u001B[0;36mIndex.get_loc\u001B[0;34m(self, key)\u001B[0m\n\u001B[1;32m   3804\u001B[0m \u001B[38;5;28;01mtry\u001B[39;00m:\n\u001B[0;32m-> 3805\u001B[0m     \u001B[38;5;28;01mreturn\u001B[39;00m \u001B[38;5;28;43mself\u001B[39;49m\u001B[38;5;241;43m.\u001B[39;49m\u001B[43m_engine\u001B[49m\u001B[38;5;241;43m.\u001B[39;49m\u001B[43mget_loc\u001B[49m\u001B[43m(\u001B[49m\u001B[43mcasted_key\u001B[49m\u001B[43m)\u001B[49m\n\u001B[1;32m   3806\u001B[0m \u001B[38;5;28;01mexcept\u001B[39;00m \u001B[38;5;167;01mKeyError\u001B[39;00m \u001B[38;5;28;01mas\u001B[39;00m err:\n",
      "File \u001B[0;32mindex.pyx:167\u001B[0m, in \u001B[0;36mpandas._libs.index.IndexEngine.get_loc\u001B[0;34m()\u001B[0m\n",
      "File \u001B[0;32mindex.pyx:196\u001B[0m, in \u001B[0;36mpandas._libs.index.IndexEngine.get_loc\u001B[0;34m()\u001B[0m\n",
      "File \u001B[0;32mpandas/_libs/hashtable_class_helper.pxi:7081\u001B[0m, in \u001B[0;36mpandas._libs.hashtable.PyObjectHashTable.get_item\u001B[0;34m()\u001B[0m\n",
      "File \u001B[0;32mpandas/_libs/hashtable_class_helper.pxi:7089\u001B[0m, in \u001B[0;36mpandas._libs.hashtable.PyObjectHashTable.get_item\u001B[0;34m()\u001B[0m\n",
      "\u001B[0;31mKeyError\u001B[0m: 'number_of_operators'",
      "\nThe above exception was the direct cause of the following exception:\n",
      "\u001B[0;31mKeyError\u001B[0m                                  Traceback (most recent call last)",
      "Cell \u001B[0;32mIn[3152], line 3\u001B[0m\n\u001B[1;32m      1\u001B[0m x_ticks \u001B[38;5;241m=\u001B[39m \u001B[38;5;28mlist\u001B[39m(np\u001B[38;5;241m.\u001B[39marange(\u001B[38;5;241m1\u001B[39m, \u001B[38;5;241m10\u001B[39m))\n\u001B[1;32m      2\u001B[0m y_ticks \u001B[38;5;241m=\u001B[39m \u001B[38;5;28mlist\u001B[39m(np\u001B[38;5;241m.\u001B[39marange(\u001B[38;5;241m0.5\u001B[39m, \u001B[38;5;241m0.75\u001B[39m, \u001B[38;5;241m0.05\u001B[39m))\n\u001B[0;32m----> 3\u001B[0m \u001B[43mplot_lines\u001B[49m\u001B[43m(\u001B[49m\u001B[43mmodels_data_df\u001B[49m\u001B[43m,\u001B[49m\u001B[43m \u001B[49m\u001B[43mx\u001B[49m\u001B[38;5;241;43m=\u001B[39;49m\u001B[38;5;124;43m'\u001B[39;49m\u001B[38;5;124;43mnumber_of_operators\u001B[39;49m\u001B[38;5;124;43m'\u001B[39;49m\u001B[43m,\u001B[49m\u001B[43m \u001B[49m\u001B[43my\u001B[49m\u001B[38;5;241;43m=\u001B[39;49m\u001B[38;5;124;43m'\u001B[39;49m\u001B[38;5;124;43mrecall\u001B[39;49m\u001B[38;5;124;43m'\u001B[39;49m\u001B[43m,\u001B[49m\u001B[43m \u001B[49m\u001B[43mz\u001B[49m\u001B[38;5;241;43m=\u001B[39;49m\u001B[38;5;124;43m'\u001B[39;49m\u001B[38;5;124;43mmodel\u001B[39;49m\u001B[38;5;124;43m'\u001B[39;49m\u001B[43m,\u001B[49m\u001B[43m \u001B[49m\u001B[43mtitle\u001B[49m\u001B[38;5;241;43m=\u001B[39;49m\u001B[38;5;124;43m'\u001B[39;49m\u001B[38;5;124;43mRecall\u001B[39;49m\u001B[38;5;124;43m'\u001B[39;49m\u001B[43m,\u001B[49m\u001B[43m \u001B[49m\u001B[43mx_label\u001B[49m\u001B[38;5;241;43m=\u001B[39;49m\u001B[38;5;124;43m'\u001B[39;49m\u001B[38;5;124;43mNumber of Operators\u001B[39;49m\u001B[38;5;124;43m'\u001B[39;49m\u001B[43m,\u001B[49m\n\u001B[1;32m      4\u001B[0m \u001B[43m           \u001B[49m\u001B[43my_label\u001B[49m\u001B[38;5;241;43m=\u001B[39;49m\u001B[38;5;124;43m'\u001B[39;49m\u001B[38;5;124;43mRecall\u001B[39;49m\u001B[38;5;124;43m'\u001B[39;49m\u001B[43m,\u001B[49m\u001B[43m \u001B[49m\u001B[43mx_ticks\u001B[49m\u001B[38;5;241;43m=\u001B[39;49m\u001B[43mx_ticks\u001B[49m\u001B[43m,\u001B[49m\u001B[43m \u001B[49m\u001B[43my_ticks\u001B[49m\u001B[38;5;241;43m=\u001B[39;49m\u001B[43my_ticks\u001B[49m\u001B[43m)\u001B[49m\n",
      "File \u001B[0;32m~/Local/Research/LTL-Evaluation-Benchmark/src/utils/figure.py:38\u001B[0m, in \u001B[0;36mplot_lines\u001B[0;34m(data, x, y, z, title, x_label, y_label, x_ticks, y_ticks, fig_size)\u001B[0m\n\u001B[1;32m     36\u001B[0m \u001B[38;5;66;03m# Plot each mode\u001B[39;00m\n\u001B[1;32m     37\u001B[0m \u001B[38;5;28;01mfor\u001B[39;00m (mode, group), color \u001B[38;5;129;01min\u001B[39;00m \u001B[38;5;28mzip\u001B[39m(grouped, palette):\n\u001B[0;32m---> 38\u001B[0m     plt\u001B[38;5;241m.\u001B[39mplot(\u001B[43mgroup\u001B[49m\u001B[43m[\u001B[49m\u001B[43mx\u001B[49m\u001B[43m]\u001B[49m, group[y], label\u001B[38;5;241m=\u001B[39mmode, marker\u001B[38;5;241m=\u001B[39m\u001B[38;5;124m'\u001B[39m\u001B[38;5;124ms\u001B[39m\u001B[38;5;124m'\u001B[39m, color\u001B[38;5;241m=\u001B[39mcolor)\n\u001B[1;32m     40\u001B[0m \u001B[38;5;66;03m# Add a legend\u001B[39;00m\n\u001B[1;32m     41\u001B[0m plt\u001B[38;5;241m.\u001B[39mlegend()\n",
      "File \u001B[0;32m~/Local/Research/LTL-Evaluation-Benchmark/.venv/lib/python3.12/site-packages/pandas/core/frame.py:4102\u001B[0m, in \u001B[0;36mDataFrame.__getitem__\u001B[0;34m(self, key)\u001B[0m\n\u001B[1;32m   4100\u001B[0m \u001B[38;5;28;01mif\u001B[39;00m \u001B[38;5;28mself\u001B[39m\u001B[38;5;241m.\u001B[39mcolumns\u001B[38;5;241m.\u001B[39mnlevels \u001B[38;5;241m>\u001B[39m \u001B[38;5;241m1\u001B[39m:\n\u001B[1;32m   4101\u001B[0m     \u001B[38;5;28;01mreturn\u001B[39;00m \u001B[38;5;28mself\u001B[39m\u001B[38;5;241m.\u001B[39m_getitem_multilevel(key)\n\u001B[0;32m-> 4102\u001B[0m indexer \u001B[38;5;241m=\u001B[39m \u001B[38;5;28;43mself\u001B[39;49m\u001B[38;5;241;43m.\u001B[39;49m\u001B[43mcolumns\u001B[49m\u001B[38;5;241;43m.\u001B[39;49m\u001B[43mget_loc\u001B[49m\u001B[43m(\u001B[49m\u001B[43mkey\u001B[49m\u001B[43m)\u001B[49m\n\u001B[1;32m   4103\u001B[0m \u001B[38;5;28;01mif\u001B[39;00m is_integer(indexer):\n\u001B[1;32m   4104\u001B[0m     indexer \u001B[38;5;241m=\u001B[39m [indexer]\n",
      "File \u001B[0;32m~/Local/Research/LTL-Evaluation-Benchmark/.venv/lib/python3.12/site-packages/pandas/core/indexes/base.py:3812\u001B[0m, in \u001B[0;36mIndex.get_loc\u001B[0;34m(self, key)\u001B[0m\n\u001B[1;32m   3807\u001B[0m     \u001B[38;5;28;01mif\u001B[39;00m \u001B[38;5;28misinstance\u001B[39m(casted_key, \u001B[38;5;28mslice\u001B[39m) \u001B[38;5;129;01mor\u001B[39;00m (\n\u001B[1;32m   3808\u001B[0m         \u001B[38;5;28misinstance\u001B[39m(casted_key, abc\u001B[38;5;241m.\u001B[39mIterable)\n\u001B[1;32m   3809\u001B[0m         \u001B[38;5;129;01mand\u001B[39;00m \u001B[38;5;28many\u001B[39m(\u001B[38;5;28misinstance\u001B[39m(x, \u001B[38;5;28mslice\u001B[39m) \u001B[38;5;28;01mfor\u001B[39;00m x \u001B[38;5;129;01min\u001B[39;00m casted_key)\n\u001B[1;32m   3810\u001B[0m     ):\n\u001B[1;32m   3811\u001B[0m         \u001B[38;5;28;01mraise\u001B[39;00m InvalidIndexError(key)\n\u001B[0;32m-> 3812\u001B[0m     \u001B[38;5;28;01mraise\u001B[39;00m \u001B[38;5;167;01mKeyError\u001B[39;00m(key) \u001B[38;5;28;01mfrom\u001B[39;00m \u001B[38;5;21;01merr\u001B[39;00m\n\u001B[1;32m   3813\u001B[0m \u001B[38;5;28;01mexcept\u001B[39;00m \u001B[38;5;167;01mTypeError\u001B[39;00m:\n\u001B[1;32m   3814\u001B[0m     \u001B[38;5;66;03m# If we have a listlike key, _check_indexing_error will raise\u001B[39;00m\n\u001B[1;32m   3815\u001B[0m     \u001B[38;5;66;03m#  InvalidIndexError. Otherwise we fall through and re-raise\u001B[39;00m\n\u001B[1;32m   3816\u001B[0m     \u001B[38;5;66;03m#  the TypeError.\u001B[39;00m\n\u001B[1;32m   3817\u001B[0m     \u001B[38;5;28mself\u001B[39m\u001B[38;5;241m.\u001B[39m_check_indexing_error(key)\n",
      "\u001B[0;31mKeyError\u001B[0m: 'number_of_operators'"
     ]
    },
    {
     "data": {
      "text/plain": [
       "<Figure size 1600x500 with 0 Axes>"
      ]
     },
     "metadata": {},
     "output_type": "display_data"
    }
   ],
   "execution_count": 3152
  },
  {
   "metadata": {},
   "cell_type": "markdown",
   "source": "### 2.4. F1",
   "id": "b2f633d71102005e"
  },
  {
   "metadata": {},
   "cell_type": "code",
   "source": [
    "x_ticks = list(np.arange(1, 10))\n",
    "y_ticks = list(np.arange(0.45, 0.75, 0.05))\n",
    "plot_lines(models_data_df, x='number_of_operators', y='f1', z='model', title='F1', x_label='Number of Operators', y_label='F1',\n",
    "           x_ticks=x_ticks, y_ticks=y_ticks)"
   ],
   "id": "22ca76bb447a3bfd",
   "outputs": [],
   "execution_count": null
  },
  {
   "metadata": {},
   "cell_type": "markdown",
   "source": "### 2.5. AUC",
   "id": "54d562866bd25f52"
  },
  {
   "metadata": {
    "ExecuteTime": {
     "end_time": "2024-07-03T15:48:35.617674Z",
     "start_time": "2024-07-03T15:48:35.583418Z"
    }
   },
   "cell_type": "code",
   "source": [
    "x_ticks = list(np.arange(1, 10))\n",
    "y_ticks = list(np.arange(0.5, 0.75, 0.05))\n",
    "plot_lines(models_data_df, x='number_of_operators', y='auc', z='model', title='AUC', x_label='Number of Operators', y_label='AUC',\n",
    "           x_ticks=x_ticks, y_ticks=y_ticks)"
   ],
   "id": "12e5c9eac352232e",
   "outputs": [
    {
     "ename": "KeyError",
     "evalue": "'number_of_operators'",
     "output_type": "error",
     "traceback": [
      "\u001B[0;31m---------------------------------------------------------------------------\u001B[0m",
      "\u001B[0;31mKeyError\u001B[0m                                  Traceback (most recent call last)",
      "File \u001B[0;32m~/Local/Research/LTL-Evaluation-Benchmark/.venv/lib/python3.12/site-packages/pandas/core/indexes/base.py:3805\u001B[0m, in \u001B[0;36mIndex.get_loc\u001B[0;34m(self, key)\u001B[0m\n\u001B[1;32m   3804\u001B[0m \u001B[38;5;28;01mtry\u001B[39;00m:\n\u001B[0;32m-> 3805\u001B[0m     \u001B[38;5;28;01mreturn\u001B[39;00m \u001B[38;5;28;43mself\u001B[39;49m\u001B[38;5;241;43m.\u001B[39;49m\u001B[43m_engine\u001B[49m\u001B[38;5;241;43m.\u001B[39;49m\u001B[43mget_loc\u001B[49m\u001B[43m(\u001B[49m\u001B[43mcasted_key\u001B[49m\u001B[43m)\u001B[49m\n\u001B[1;32m   3806\u001B[0m \u001B[38;5;28;01mexcept\u001B[39;00m \u001B[38;5;167;01mKeyError\u001B[39;00m \u001B[38;5;28;01mas\u001B[39;00m err:\n",
      "File \u001B[0;32mindex.pyx:167\u001B[0m, in \u001B[0;36mpandas._libs.index.IndexEngine.get_loc\u001B[0;34m()\u001B[0m\n",
      "File \u001B[0;32mindex.pyx:196\u001B[0m, in \u001B[0;36mpandas._libs.index.IndexEngine.get_loc\u001B[0;34m()\u001B[0m\n",
      "File \u001B[0;32mpandas/_libs/hashtable_class_helper.pxi:7081\u001B[0m, in \u001B[0;36mpandas._libs.hashtable.PyObjectHashTable.get_item\u001B[0;34m()\u001B[0m\n",
      "File \u001B[0;32mpandas/_libs/hashtable_class_helper.pxi:7089\u001B[0m, in \u001B[0;36mpandas._libs.hashtable.PyObjectHashTable.get_item\u001B[0;34m()\u001B[0m\n",
      "\u001B[0;31mKeyError\u001B[0m: 'number_of_operators'",
      "\nThe above exception was the direct cause of the following exception:\n",
      "\u001B[0;31mKeyError\u001B[0m                                  Traceback (most recent call last)",
      "Cell \u001B[0;32mIn[3153], line 3\u001B[0m\n\u001B[1;32m      1\u001B[0m x_ticks \u001B[38;5;241m=\u001B[39m \u001B[38;5;28mlist\u001B[39m(np\u001B[38;5;241m.\u001B[39marange(\u001B[38;5;241m1\u001B[39m, \u001B[38;5;241m10\u001B[39m))\n\u001B[1;32m      2\u001B[0m y_ticks \u001B[38;5;241m=\u001B[39m \u001B[38;5;28mlist\u001B[39m(np\u001B[38;5;241m.\u001B[39marange(\u001B[38;5;241m0.5\u001B[39m, \u001B[38;5;241m0.75\u001B[39m, \u001B[38;5;241m0.05\u001B[39m))\n\u001B[0;32m----> 3\u001B[0m \u001B[43mplot_lines\u001B[49m\u001B[43m(\u001B[49m\u001B[43mmodels_data_df\u001B[49m\u001B[43m,\u001B[49m\u001B[43m \u001B[49m\u001B[43mx\u001B[49m\u001B[38;5;241;43m=\u001B[39;49m\u001B[38;5;124;43m'\u001B[39;49m\u001B[38;5;124;43mnumber_of_operators\u001B[39;49m\u001B[38;5;124;43m'\u001B[39;49m\u001B[43m,\u001B[49m\u001B[43m \u001B[49m\u001B[43my\u001B[49m\u001B[38;5;241;43m=\u001B[39;49m\u001B[38;5;124;43m'\u001B[39;49m\u001B[38;5;124;43mauc\u001B[39;49m\u001B[38;5;124;43m'\u001B[39;49m\u001B[43m,\u001B[49m\u001B[43m \u001B[49m\u001B[43mz\u001B[49m\u001B[38;5;241;43m=\u001B[39;49m\u001B[38;5;124;43m'\u001B[39;49m\u001B[38;5;124;43mmodel\u001B[39;49m\u001B[38;5;124;43m'\u001B[39;49m\u001B[43m,\u001B[49m\u001B[43m \u001B[49m\u001B[43mtitle\u001B[49m\u001B[38;5;241;43m=\u001B[39;49m\u001B[38;5;124;43m'\u001B[39;49m\u001B[38;5;124;43mAUC\u001B[39;49m\u001B[38;5;124;43m'\u001B[39;49m\u001B[43m,\u001B[49m\u001B[43m \u001B[49m\u001B[43mx_label\u001B[49m\u001B[38;5;241;43m=\u001B[39;49m\u001B[38;5;124;43m'\u001B[39;49m\u001B[38;5;124;43mNumber of Operators\u001B[39;49m\u001B[38;5;124;43m'\u001B[39;49m\u001B[43m,\u001B[49m\u001B[43m \u001B[49m\u001B[43my_label\u001B[49m\u001B[38;5;241;43m=\u001B[39;49m\u001B[38;5;124;43m'\u001B[39;49m\u001B[38;5;124;43mAUC\u001B[39;49m\u001B[38;5;124;43m'\u001B[39;49m\u001B[43m,\u001B[49m\n\u001B[1;32m      4\u001B[0m \u001B[43m           \u001B[49m\u001B[43mx_ticks\u001B[49m\u001B[38;5;241;43m=\u001B[39;49m\u001B[43mx_ticks\u001B[49m\u001B[43m,\u001B[49m\u001B[43m \u001B[49m\u001B[43my_ticks\u001B[49m\u001B[38;5;241;43m=\u001B[39;49m\u001B[43my_ticks\u001B[49m\u001B[43m)\u001B[49m\n",
      "File \u001B[0;32m~/Local/Research/LTL-Evaluation-Benchmark/src/utils/figure.py:38\u001B[0m, in \u001B[0;36mplot_lines\u001B[0;34m(data, x, y, z, title, x_label, y_label, x_ticks, y_ticks, fig_size)\u001B[0m\n\u001B[1;32m     36\u001B[0m \u001B[38;5;66;03m# Plot each mode\u001B[39;00m\n\u001B[1;32m     37\u001B[0m \u001B[38;5;28;01mfor\u001B[39;00m (mode, group), color \u001B[38;5;129;01min\u001B[39;00m \u001B[38;5;28mzip\u001B[39m(grouped, palette):\n\u001B[0;32m---> 38\u001B[0m     plt\u001B[38;5;241m.\u001B[39mplot(\u001B[43mgroup\u001B[49m\u001B[43m[\u001B[49m\u001B[43mx\u001B[49m\u001B[43m]\u001B[49m, group[y], label\u001B[38;5;241m=\u001B[39mmode, marker\u001B[38;5;241m=\u001B[39m\u001B[38;5;124m'\u001B[39m\u001B[38;5;124ms\u001B[39m\u001B[38;5;124m'\u001B[39m, color\u001B[38;5;241m=\u001B[39mcolor)\n\u001B[1;32m     40\u001B[0m \u001B[38;5;66;03m# Add a legend\u001B[39;00m\n\u001B[1;32m     41\u001B[0m plt\u001B[38;5;241m.\u001B[39mlegend()\n",
      "File \u001B[0;32m~/Local/Research/LTL-Evaluation-Benchmark/.venv/lib/python3.12/site-packages/pandas/core/frame.py:4102\u001B[0m, in \u001B[0;36mDataFrame.__getitem__\u001B[0;34m(self, key)\u001B[0m\n\u001B[1;32m   4100\u001B[0m \u001B[38;5;28;01mif\u001B[39;00m \u001B[38;5;28mself\u001B[39m\u001B[38;5;241m.\u001B[39mcolumns\u001B[38;5;241m.\u001B[39mnlevels \u001B[38;5;241m>\u001B[39m \u001B[38;5;241m1\u001B[39m:\n\u001B[1;32m   4101\u001B[0m     \u001B[38;5;28;01mreturn\u001B[39;00m \u001B[38;5;28mself\u001B[39m\u001B[38;5;241m.\u001B[39m_getitem_multilevel(key)\n\u001B[0;32m-> 4102\u001B[0m indexer \u001B[38;5;241m=\u001B[39m \u001B[38;5;28;43mself\u001B[39;49m\u001B[38;5;241;43m.\u001B[39;49m\u001B[43mcolumns\u001B[49m\u001B[38;5;241;43m.\u001B[39;49m\u001B[43mget_loc\u001B[49m\u001B[43m(\u001B[49m\u001B[43mkey\u001B[49m\u001B[43m)\u001B[49m\n\u001B[1;32m   4103\u001B[0m \u001B[38;5;28;01mif\u001B[39;00m is_integer(indexer):\n\u001B[1;32m   4104\u001B[0m     indexer \u001B[38;5;241m=\u001B[39m [indexer]\n",
      "File \u001B[0;32m~/Local/Research/LTL-Evaluation-Benchmark/.venv/lib/python3.12/site-packages/pandas/core/indexes/base.py:3812\u001B[0m, in \u001B[0;36mIndex.get_loc\u001B[0;34m(self, key)\u001B[0m\n\u001B[1;32m   3807\u001B[0m     \u001B[38;5;28;01mif\u001B[39;00m \u001B[38;5;28misinstance\u001B[39m(casted_key, \u001B[38;5;28mslice\u001B[39m) \u001B[38;5;129;01mor\u001B[39;00m (\n\u001B[1;32m   3808\u001B[0m         \u001B[38;5;28misinstance\u001B[39m(casted_key, abc\u001B[38;5;241m.\u001B[39mIterable)\n\u001B[1;32m   3809\u001B[0m         \u001B[38;5;129;01mand\u001B[39;00m \u001B[38;5;28many\u001B[39m(\u001B[38;5;28misinstance\u001B[39m(x, \u001B[38;5;28mslice\u001B[39m) \u001B[38;5;28;01mfor\u001B[39;00m x \u001B[38;5;129;01min\u001B[39;00m casted_key)\n\u001B[1;32m   3810\u001B[0m     ):\n\u001B[1;32m   3811\u001B[0m         \u001B[38;5;28;01mraise\u001B[39;00m InvalidIndexError(key)\n\u001B[0;32m-> 3812\u001B[0m     \u001B[38;5;28;01mraise\u001B[39;00m \u001B[38;5;167;01mKeyError\u001B[39;00m(key) \u001B[38;5;28;01mfrom\u001B[39;00m \u001B[38;5;21;01merr\u001B[39;00m\n\u001B[1;32m   3813\u001B[0m \u001B[38;5;28;01mexcept\u001B[39;00m \u001B[38;5;167;01mTypeError\u001B[39;00m:\n\u001B[1;32m   3814\u001B[0m     \u001B[38;5;66;03m# If we have a listlike key, _check_indexing_error will raise\u001B[39;00m\n\u001B[1;32m   3815\u001B[0m     \u001B[38;5;66;03m#  InvalidIndexError. Otherwise we fall through and re-raise\u001B[39;00m\n\u001B[1;32m   3816\u001B[0m     \u001B[38;5;66;03m#  the TypeError.\u001B[39;00m\n\u001B[1;32m   3817\u001B[0m     \u001B[38;5;28mself\u001B[39m\u001B[38;5;241m.\u001B[39m_check_indexing_error(key)\n",
      "\u001B[0;31mKeyError\u001B[0m: 'number_of_operators'"
     ]
    },
    {
     "data": {
      "text/plain": [
       "<Figure size 1600x500 with 0 Axes>"
      ]
     },
     "metadata": {},
     "output_type": "display_data"
    }
   ],
   "execution_count": 3153
  },
  {
   "metadata": {},
   "cell_type": "markdown",
   "source": "## 3. Formula 2, Event 2-9, Count 300",
   "id": "2b7aee0ae0cdc6f2"
  },
  {
   "metadata": {
    "ExecuteTime": {
     "end_time": "2024-07-03T15:48:35.655437Z",
     "start_time": "2024-07-03T15:48:35.638783Z"
    }
   },
   "cell_type": "code",
   "source": [
    "count = 300\n",
    "formulas = 2\n",
    "events_n = [2, 3, 4, 5, 7, 9]\n",
    "\n",
    "models_data_df = pd.DataFrame()\n",
    "for model in models:\n",
    "    data = {}\n",
    "    for e_n in events_n:\n",
    "        path = get_evaluation_file_path(event_n=e_n, formula_n=formulas, count=count, model=model)\n",
    "        if not os.path.exists(path):\n",
    "            warnings.warn(f\"Evaluation file of model {model} does not exist.\", UserWarning)\n",
    "            continue\n",
    "        df = pd.read_csv(path)\n",
    "        df['answer'] = df['answer'].apply(lambda x: 1 if x else 0)\n",
    "        df['prediction'] = df['prediction'].astype(int)\n",
    "        data[e_n] = metrics(df)['raw']\n",
    "    df = pd.DataFrame(data).transpose().reset_index().rename(columns={'index': 'number_of_events'})\n",
    "    df['model'] = model\n",
    "    models_data_df = pd.concat([models_data_df, df], ignore_index=True)\n",
    "\n",
    "models_data_df"
   ],
   "id": "197229729395818e",
   "outputs": [
    {
     "name": "stderr",
     "output_type": "stream",
     "text": [
      "/var/folders/ll/1lnz2h617zj3ztl0jnrd5h7w0000gn/T/ipykernel_23937/1323746287.py:11: UserWarning: Evaluation file of model gpt-3.5-turbo does not exist.\n",
      "  warnings.warn(f\"Evaluation file of model {model} does not exist.\", UserWarning)\n",
      "/var/folders/ll/1lnz2h617zj3ztl0jnrd5h7w0000gn/T/ipykernel_23937/1323746287.py:11: UserWarning: Evaluation file of model llama3:70b-instruct does not exist.\n",
      "  warnings.warn(f\"Evaluation file of model {model} does not exist.\", UserWarning)\n",
      "/var/folders/ll/1lnz2h617zj3ztl0jnrd5h7w0000gn/T/ipykernel_23937/1323746287.py:11: UserWarning: Evaluation file of model qwen:72b-chat does not exist.\n",
      "  warnings.warn(f\"Evaluation file of model {model} does not exist.\", UserWarning)\n",
      "/var/folders/ll/1lnz2h617zj3ztl0jnrd5h7w0000gn/T/ipykernel_23937/1323746287.py:11: UserWarning: Evaluation file of model gemma:7b-instruct does not exist.\n",
      "  warnings.warn(f\"Evaluation file of model {model} does not exist.\", UserWarning)\n",
      "/var/folders/ll/1lnz2h617zj3ztl0jnrd5h7w0000gn/T/ipykernel_23937/1323746287.py:11: UserWarning: Evaluation file of model qwen:7b-chat does not exist.\n",
      "  warnings.warn(f\"Evaluation file of model {model} does not exist.\", UserWarning)\n",
      "/var/folders/ll/1lnz2h617zj3ztl0jnrd5h7w0000gn/T/ipykernel_23937/1323746287.py:11: UserWarning: Evaluation file of model mistral:7b-instruct does not exist.\n",
      "  warnings.warn(f\"Evaluation file of model {model} does not exist.\", UserWarning)\n"
     ]
    },
    {
     "data": {
      "text/plain": [
       "Empty DataFrame\n",
       "Columns: [number_of_events, model]\n",
       "Index: []"
      ],
      "text/html": [
       "<div>\n",
       "<style scoped>\n",
       "    .dataframe tbody tr th:only-of-type {\n",
       "        vertical-align: middle;\n",
       "    }\n",
       "\n",
       "    .dataframe tbody tr th {\n",
       "        vertical-align: top;\n",
       "    }\n",
       "\n",
       "    .dataframe thead th {\n",
       "        text-align: right;\n",
       "    }\n",
       "</style>\n",
       "<table border=\"1\" class=\"dataframe\">\n",
       "  <thead>\n",
       "    <tr style=\"text-align: right;\">\n",
       "      <th></th>\n",
       "      <th>number_of_events</th>\n",
       "      <th>model</th>\n",
       "    </tr>\n",
       "  </thead>\n",
       "  <tbody>\n",
       "  </tbody>\n",
       "</table>\n",
       "</div>"
      ]
     },
     "execution_count": 3154,
     "metadata": {},
     "output_type": "execute_result"
    }
   ],
   "execution_count": 3154
  },
  {
   "metadata": {},
   "cell_type": "markdown",
   "source": "### 3.1. Accuracy",
   "id": "17694240cd4cf31f"
  },
  {
   "metadata": {
    "ExecuteTime": {
     "end_time": "2024-07-03T15:48:35.727726Z",
     "start_time": "2024-07-03T15:48:35.656185Z"
    }
   },
   "cell_type": "code",
   "source": [
    "x_ticks = list(np.arange(1, 10))\n",
    "y_ticks = list(np.arange(0.5, 0.65, 0.05))\n",
    "plot_lines(models_data_df, x='number_of_events', y='accuracy', z='model', title='Accuracy', x_label='Number of Events',\n",
    "           y_label='Accuracy', x_ticks=x_ticks, y_ticks=y_ticks)"
   ],
   "id": "d693b2c70defd096",
   "outputs": [
    {
     "name": "stderr",
     "output_type": "stream",
     "text": [
      "/Users/weizhitang/Local/Research/LTL-Evaluation-Benchmark/src/utils/figure.py:41: UserWarning: No artists with labels found to put in legend.  Note that artists whose label start with an underscore are ignored when legend() is called with no argument.\n",
      "  plt.legend()\n"
     ]
    },
    {
     "data": {
      "text/plain": [
       "<Figure size 1600x500 with 1 Axes>"
      ],
      "image/png": "[encoded data removed]"
     },
     "metadata": {},
     "output_type": "display_data"
    }
   ],
   "execution_count": 3155
  },
  {
   "metadata": {},
   "cell_type": "markdown",
   "source": "### 3.2. Precision",
   "id": "ce3178b3b4f01b92"
  },
  {
   "metadata": {
    "ExecuteTime": {
     "end_time": "2024-07-03T15:48:35.805693Z",
     "start_time": "2024-07-03T15:48:35.728799Z"
    }
   },
   "cell_type": "code",
   "source": [
    "x_ticks = list(np.arange(1, 10))\n",
    "y_ticks = list(np.arange(0.3, 0.65, 0.05))\n",
    "plot_lines(models_data_df, x='number_of_events', y='precision', z='model', title='Precision', x_label='Number of Events',\n",
    "           y_label='Precision', x_ticks=x_ticks, y_ticks=y_ticks)"
   ],
   "id": "a8684fa98e715954",
   "outputs": [
    {
     "name": "stderr",
     "output_type": "stream",
     "text": [
      "/Users/weizhitang/Local/Research/LTL-Evaluation-Benchmark/src/utils/figure.py:41: UserWarning: No artists with labels found to put in legend.  Note that artists whose label start with an underscore are ignored when legend() is called with no argument.\n",
      "  plt.legend()\n"
     ]
    },
    {
     "data": {
      "text/plain": [
       "<Figure size 1600x500 with 1 Axes>"
      ],
      "image/png": "[encoded data removed]"
     },
     "metadata": {},
     "output_type": "display_data"
    }
   ],
   "execution_count": 3156
  },
  {
   "metadata": {},
   "cell_type": "markdown",
   "source": "### 3.3. Recall",
   "id": "7e7aa01bd6dbc0fe"
  },
  {
   "metadata": {
    "ExecuteTime": {
     "end_time": "2024-07-03T15:48:35.891110Z",
     "start_time": "2024-07-03T15:48:35.806487Z"
    }
   },
   "cell_type": "code",
   "source": [
    "x_ticks = list(np.arange(1, 10))\n",
    "y_ticks = list(np.arange(0.3, 0.65, 0.05))\n",
    "plot_lines(models_data_df, x='number_of_events', y='recall', z='model', title='Recall', x_label='Number of Events',\n",
    "           y_label='Recall', x_ticks=x_ticks, y_ticks=y_ticks)"
   ],
   "id": "fcf3768adbd14765",
   "outputs": [
    {
     "name": "stderr",
     "output_type": "stream",
     "text": [
      "/Users/weizhitang/Local/Research/LTL-Evaluation-Benchmark/src/utils/figure.py:41: UserWarning: No artists with labels found to put in legend.  Note that artists whose label start with an underscore are ignored when legend() is called with no argument.\n",
      "  plt.legend()\n"
     ]
    },
    {
     "data": {
      "text/plain": [
       "<Figure size 1600x500 with 1 Axes>"
      ],
      "image/png": "[encoded data removed]"
     },
     "metadata": {},
     "output_type": "display_data"
    }
   ],
   "execution_count": 3157
  },
  {
   "metadata": {},
   "cell_type": "markdown",
   "source": "### 3.4. F1",
   "id": "a95516cb561875fc"
  },
  {
   "metadata": {
    "ExecuteTime": {
     "end_time": "2024-07-03T15:48:35.970334Z",
     "start_time": "2024-07-03T15:48:35.893493Z"
    }
   },
   "cell_type": "code",
   "source": [
    "x_ticks = list(np.arange(1, 10))\n",
    "y_ticks = list(np.arange(0.3, 0.65, 0.05))\n",
    "plot_lines(models_data_df, x='number_of_events', y='f1', z='model', title='F1', x_label='Number of Events', y_label='F1',\n",
    "           x_ticks=x_ticks, y_ticks=y_ticks)"
   ],
   "id": "cf172431ece1e780",
   "outputs": [
    {
     "name": "stderr",
     "output_type": "stream",
     "text": [
      "/Users/weizhitang/Local/Research/LTL-Evaluation-Benchmark/src/utils/figure.py:41: UserWarning: No artists with labels found to put in legend.  Note that artists whose label start with an underscore are ignored when legend() is called with no argument.\n",
      "  plt.legend()\n"
     ]
    },
    {
     "data": {
      "text/plain": [
       "<Figure size 1600x500 with 1 Axes>"
      ],
      "image/png": "[encoded data removed]"
     },
     "metadata": {},
     "output_type": "display_data"
    }
   ],
   "execution_count": 3158
  },
  {
   "metadata": {},
   "cell_type": "markdown",
   "source": "### 3.5. AUC",
   "id": "e4f89fbd71498a49"
  },
  {
   "metadata": {
    "ExecuteTime": {
     "end_time": "2024-07-03T15:48:36.051688Z",
     "start_time": "2024-07-03T15:48:35.971528Z"
    }
   },
   "cell_type": "code",
   "source": [
    "x_ticks = list(np.arange(1, 10))\n",
    "y_ticks = list(np.arange(0.5, 0.65, 0.05))\n",
    "plot_lines(models_data_df, x='number_of_events', y='auc', z='model', title='AUC', x_label='Number of Events', y_label='AUC',\n",
    "           x_ticks=x_ticks, y_ticks=y_ticks)"
   ],
   "id": "c877ca766a2a5a5b",
   "outputs": [
    {
     "name": "stderr",
     "output_type": "stream",
     "text": [
      "/Users/weizhitang/Local/Research/LTL-Evaluation-Benchmark/src/utils/figure.py:41: UserWarning: No artists with labels found to put in legend.  Note that artists whose label start with an underscore are ignored when legend() is called with no argument.\n",
      "  plt.legend()\n"
     ]
    },
    {
     "data": {
      "text/plain": [
       "<Figure size 1600x500 with 1 Axes>"
      ],
      "image/png": "[encoded data removed]"
     },
     "metadata": {},
     "output_type": "display_data"
    }
   ],
   "execution_count": 3159
  }
 ],
 "metadata": {
  "kernelspec": {
   "display_name": "Python 3",
   "language": "python",
   "name": "python3"
  },
  "language_info": {
   "codemirror_mode": {
    "name": "ipython",
    "version": 2
   },
   "file_extension": ".py",
   "mimetype": "text/x-python",
   "name": "python",
   "nbconvert_exporter": "python",
   "pygments_lexer": "ipython2",
   "version": "2.7.6"
  }
 },
 "nbformat": 4,
 "nbformat_minor": 5
}
