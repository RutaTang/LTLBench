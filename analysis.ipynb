{
 "cells": [
  {
   "metadata": {
    "ExecuteTime": {
     "end_time": "2024-06-23T00:41:25.057765Z",
     "start_time": "2024-06-23T00:41:25.054650Z"
    }
   },
   "cell_type": "code",
   "source": [
    "import numpy as np\n",
    "import pandas as pd\n",
    "import matplotlib.pyplot as plt\n",
    "import networkx as nx\n",
    "import io\n",
    "\n",
    "from src.utils.file import get_data_file_path\n",
    "\n",
    "#%load_ext autoreload"
   ],
   "id": "fec3efec24f89302",
   "outputs": [],
   "execution_count": 181
  },
  {
   "metadata": {
    "ExecuteTime": {
     "end_time": "2024-06-23T00:41:25.501693Z",
     "start_time": "2024-06-23T00:41:25.497143Z"
    }
   },
   "cell_type": "code",
   "source": [
    "# Experiment 1: Fix events n, increase formulas n, to have (accuracy, precision, recall, f1) for each model, draw line chart \n",
    "# Experiment 2: Fix formulas n, increase events n, to have (accuracy, precision, recall, f1) for each model, draw line chart"
   ],
   "id": "e09d46f46357ea60",
   "outputs": [],
   "execution_count": 182
  },
  {
   "metadata": {},
   "cell_type": "markdown",
   "source": "# Data Presentation",
   "id": "bd6097bc71146be7"
  },
  {
   "metadata": {
    "ExecuteTime": {
     "end_time": "2024-06-23T00:41:25.748503Z",
     "start_time": "2024-06-23T00:41:25.742328Z"
    }
   },
   "cell_type": "code",
   "source": [
    "path = get_data_file_path(event_n=3, formula_n=3, count=300)\n",
    "data = pd.read_csv(path)"
   ],
   "id": "6ca8f4b03b2ea0ee",
   "outputs": [],
   "execution_count": 183
  },
  {
   "metadata": {
    "ExecuteTime": {
     "end_time": "2024-06-23T00:41:25.893008Z",
     "start_time": "2024-06-23T00:41:25.884778Z"
    }
   },
   "cell_type": "code",
   "source": "data.head()",
   "id": "1b93c24a62ca25e4",
   "outputs": [
    {
     "data": {
      "text/plain": [
       "                                             context  \\\n",
       "0  Initially, event3 happened. After event1, even...   \n",
       "1  Initially, event1 happened. After event3, no o...   \n",
       "2  Initially, event2 happened. After event2, even...   \n",
       "3  Initially, event3 happened. After event1, even...   \n",
       "4  Initially, event2 happened. After event1, even...   \n",
       "\n",
       "                                               query  \\\n",
       "0  C1: Event1 happens or event2 happens.\\nC2: C1 ...   \n",
       "1  C1: Event2 will happen eventually.\\nC2: That e...   \n",
       "2  C1: Event3 will happen at next time.\\nC2: Even...   \n",
       "3  C1: Event2 happens and event3 happens.\\nC2: Ev...   \n",
       "4  C1: Event3 happens or event3 happens.\\nC2: C1 ...   \n",
       "\n",
       "                                            question  \\\n",
       "0  === Context ===\\n\\nInitially, event3 happened....   \n",
       "1  === Context ===\\n\\nInitially, event1 happened....   \n",
       "2  === Context ===\\n\\nInitially, event2 happened....   \n",
       "3  === Context ===\\n\\nInitially, event3 happened....   \n",
       "4  === Context ===\\n\\nInitially, event2 happened....   \n",
       "\n",
       "                                                code  \\\n",
       "0  MODULE main\\nVAR\\n    state : {event1, event2,...   \n",
       "1  MODULE main\\nVAR\\n    state : {event1, event2,...   \n",
       "2  MODULE main\\nVAR\\n    state : {event1, event2,...   \n",
       "3  MODULE main\\nVAR\\n    state : {event1, event2,...   \n",
       "4  MODULE main\\nVAR\\n    state : {event1, event2,...   \n",
       "\n",
       "                            formula  answer  \\\n",
       "0  (X ((event1 | event2) & event1))    True   \n",
       "1        (G (event2 -> (F event2)))    True   \n",
       "2        ((X event3) -> (X event3))    True   \n",
       "3  (! (event1 | (event2 & event3)))    True   \n",
       "4  (! ((event3 | event3) | event1))    True   \n",
       "\n",
       "                                               graph  \n",
       "0  <graphml xmlns=\"http://graphml.graphdrawing.or...  \n",
       "1  <graphml xmlns=\"http://graphml.graphdrawing.or...  \n",
       "2  <graphml xmlns=\"http://graphml.graphdrawing.or...  \n",
       "3  <graphml xmlns=\"http://graphml.graphdrawing.or...  \n",
       "4  <graphml xmlns=\"http://graphml.graphdrawing.or...  "
      ],
      "text/html": [
       "<div>\n",
       "<style scoped>\n",
       "    .dataframe tbody tr th:only-of-type {\n",
       "        vertical-align: middle;\n",
       "    }\n",
       "\n",
       "    .dataframe tbody tr th {\n",
       "        vertical-align: top;\n",
       "    }\n",
       "\n",
       "    .dataframe thead th {\n",
       "        text-align: right;\n",
       "    }\n",
       "</style>\n",
       "<table border=\"1\" class=\"dataframe\">\n",
       "  <thead>\n",
       "    <tr style=\"text-align: right;\">\n",
       "      <th></th>\n",
       "      <th>context</th>\n",
       "      <th>query</th>\n",
       "      <th>question</th>\n",
       "      <th>code</th>\n",
       "      <th>formula</th>\n",
       "      <th>answer</th>\n",
       "      <th>graph</th>\n",
       "    </tr>\n",
       "  </thead>\n",
       "  <tbody>\n",
       "    <tr>\n",
       "      <th>0</th>\n",
       "      <td>Initially, event3 happened. After event1, even...</td>\n",
       "      <td>C1: Event1 happens or event2 happens.\\nC2: C1 ...</td>\n",
       "      <td>=== Context ===\\n\\nInitially, event3 happened....</td>\n",
       "      <td>MODULE main\\nVAR\\n    state : {event1, event2,...</td>\n",
       "      <td>(X ((event1 | event2) &amp; event1))</td>\n",
       "      <td>True</td>\n",
       "      <td>&lt;graphml xmlns=\"http://graphml.graphdrawing.or...</td>\n",
       "    </tr>\n",
       "    <tr>\n",
       "      <th>1</th>\n",
       "      <td>Initially, event1 happened. After event3, no o...</td>\n",
       "      <td>C1: Event2 will happen eventually.\\nC2: That e...</td>\n",
       "      <td>=== Context ===\\n\\nInitially, event1 happened....</td>\n",
       "      <td>MODULE main\\nVAR\\n    state : {event1, event2,...</td>\n",
       "      <td>(G (event2 -&gt; (F event2)))</td>\n",
       "      <td>True</td>\n",
       "      <td>&lt;graphml xmlns=\"http://graphml.graphdrawing.or...</td>\n",
       "    </tr>\n",
       "    <tr>\n",
       "      <th>2</th>\n",
       "      <td>Initially, event2 happened. After event2, even...</td>\n",
       "      <td>C1: Event3 will happen at next time.\\nC2: Even...</td>\n",
       "      <td>=== Context ===\\n\\nInitially, event2 happened....</td>\n",
       "      <td>MODULE main\\nVAR\\n    state : {event1, event2,...</td>\n",
       "      <td>((X event3) -&gt; (X event3))</td>\n",
       "      <td>True</td>\n",
       "      <td>&lt;graphml xmlns=\"http://graphml.graphdrawing.or...</td>\n",
       "    </tr>\n",
       "    <tr>\n",
       "      <th>3</th>\n",
       "      <td>Initially, event3 happened. After event1, even...</td>\n",
       "      <td>C1: Event2 happens and event3 happens.\\nC2: Ev...</td>\n",
       "      <td>=== Context ===\\n\\nInitially, event3 happened....</td>\n",
       "      <td>MODULE main\\nVAR\\n    state : {event1, event2,...</td>\n",
       "      <td>(! (event1 | (event2 &amp; event3)))</td>\n",
       "      <td>True</td>\n",
       "      <td>&lt;graphml xmlns=\"http://graphml.graphdrawing.or...</td>\n",
       "    </tr>\n",
       "    <tr>\n",
       "      <th>4</th>\n",
       "      <td>Initially, event2 happened. After event1, even...</td>\n",
       "      <td>C1: Event3 happens or event3 happens.\\nC2: C1 ...</td>\n",
       "      <td>=== Context ===\\n\\nInitially, event2 happened....</td>\n",
       "      <td>MODULE main\\nVAR\\n    state : {event1, event2,...</td>\n",
       "      <td>(! ((event3 | event3) | event1))</td>\n",
       "      <td>True</td>\n",
       "      <td>&lt;graphml xmlns=\"http://graphml.graphdrawing.or...</td>\n",
       "    </tr>\n",
       "  </tbody>\n",
       "</table>\n",
       "</div>"
      ]
     },
     "execution_count": 184,
     "metadata": {},
     "output_type": "execute_result"
    }
   ],
   "execution_count": 184
  },
  {
   "metadata": {
    "ExecuteTime": {
     "end_time": "2024-06-23T00:41:26.082390Z",
     "start_time": "2024-06-23T00:41:26.078805Z"
    }
   },
   "cell_type": "code",
   "source": "data.info()",
   "id": "5c45eb8ce4621f26",
   "outputs": [
    {
     "name": "stdout",
     "output_type": "stream",
     "text": [
      "<class 'pandas.core.frame.DataFrame'>\n",
      "RangeIndex: 300 entries, 0 to 299\n",
      "Data columns (total 7 columns):\n",
      " #   Column    Non-Null Count  Dtype \n",
      "---  ------    --------------  ----- \n",
      " 0   context   300 non-null    object\n",
      " 1   query     300 non-null    object\n",
      " 2   question  300 non-null    object\n",
      " 3   code      300 non-null    object\n",
      " 4   formula   300 non-null    object\n",
      " 5   answer    300 non-null    bool  \n",
      " 6   graph     300 non-null    object\n",
      "dtypes: bool(1), object(6)\n",
      "memory usage: 14.5+ KB\n"
     ]
    }
   ],
   "execution_count": 185
  },
  {
   "metadata": {
    "ExecuteTime": {
     "end_time": "2024-06-23T00:41:26.217949Z",
     "start_time": "2024-06-23T00:41:26.215961Z"
    }
   },
   "cell_type": "code",
   "source": [
    "# Context\n",
    "print(data.loc[0, 'context'])"
   ],
   "id": "9ab13c9cce53dfd0",
   "outputs": [
    {
     "name": "stdout",
     "output_type": "stream",
     "text": [
      "Initially, event3 happened. After event1, event2 will happen. After event2, event1 will happen. After event3, event1 will happen.\n"
     ]
    }
   ],
   "execution_count": 186
  },
  {
   "metadata": {
    "ExecuteTime": {
     "end_time": "2024-06-23T00:41:26.708889Z",
     "start_time": "2024-06-23T00:41:26.706717Z"
    }
   },
   "cell_type": "code",
   "source": [
    "# Query \n",
    "print(data.loc[0, 'query'])"
   ],
   "id": "a798c9fb4bf99317",
   "outputs": [
    {
     "name": "stdout",
     "output_type": "stream",
     "text": [
      "C1: Event1 happens or event2 happens.\n",
      "C2: C1 holds and event1 happens.\n",
      "C3: C2 will happen at next time.\n"
     ]
    }
   ],
   "execution_count": 187
  },
  {
   "metadata": {
    "ExecuteTime": {
     "end_time": "2024-06-23T00:41:27.009795Z",
     "start_time": "2024-06-23T00:41:27.006490Z"
    }
   },
   "cell_type": "code",
   "source": [
    "# Question\n",
    "print(data.loc[0, 'question'])"
   ],
   "id": "9d489038d8904345",
   "outputs": [
    {
     "name": "stdout",
     "output_type": "stream",
     "text": [
      "=== Context ===\n",
      "\n",
      "Initially, event3 happened. After event1, event2 will happen. After event2, event1 will happen. After event3, event1 will happen.\n",
      "\n",
      "=== Hypothesis ===\n",
      "\n",
      "C1: Event1 happens or event2 happens.\n",
      "C2: C1 holds and event1 happens.\n",
      "C3: C2 will happen at next time.\n",
      "\n",
      "C3 is True or False? Answer with \"True\" or \"False\" directly:\n",
      "\n"
     ]
    }
   ],
   "execution_count": 188
  },
  {
   "metadata": {
    "ExecuteTime": {
     "end_time": "2024-06-23T00:41:27.132714Z",
     "start_time": "2024-06-23T00:41:27.129260Z"
    }
   },
   "cell_type": "code",
   "source": [
    "# Code\n",
    "print(data.loc[0, 'code'])"
   ],
   "id": "86eb1db67f024edd",
   "outputs": [
    {
     "name": "stdout",
     "output_type": "stream",
     "text": [
      "MODULE main\n",
      "VAR\n",
      "    state : {event1, event2, event3};\n",
      "ASSIGN\n",
      "    init(state) := event3;\n",
      "    next(state) := case\n",
      "        state = event1 : event2;\n",
      "\t\tstate = event2 : event1;\n",
      "\t\tstate = event3 : event1;\n",
      "    esac;\n",
      "LTLSPEC (X (((state=event1) | (state=event2)) & (state=event1)))\n",
      "\n"
     ]
    }
   ],
   "execution_count": 189
  },
  {
   "metadata": {
    "ExecuteTime": {
     "end_time": "2024-06-23T00:41:27.633824Z",
     "start_time": "2024-06-23T00:41:27.627737Z"
    }
   },
   "cell_type": "code",
   "source": [
    "# Formula\n",
    "print(data.loc[0, 'formula'])"
   ],
   "id": "169528b8a773e868",
   "outputs": [
    {
     "name": "stdout",
     "output_type": "stream",
     "text": [
      "(X ((event1 | event2) & event1))\n"
     ]
    }
   ],
   "execution_count": 190
  },
  {
   "metadata": {
    "ExecuteTime": {
     "end_time": "2024-06-23T00:41:50.064252Z",
     "start_time": "2024-06-23T00:41:50.001311Z"
    }
   },
   "cell_type": "code",
   "source": [
    "# Plot Graph\n",
    "graph = nx.read_graphml(io.StringIO(data.loc[0, 'graph']))\n",
    "nx.draw(graph, with_labels=True, node_size=3000, node_color='skyblue')\n",
    "plt.show()"
   ],
   "id": "dc4a29f03b7c7aa3",
   "outputs": [
    {
     "data": {
      "text/plain": [
       "<Figure size 640x480 with 1 Axes>"
      ],
      "image/png": "[encoded data removed]"
     },
     "metadata": {},
     "output_type": "display_data"
    }
   ],
   "execution_count": 193
  },
  {
   "metadata": {
    "ExecuteTime": {
     "end_time": "2024-06-23T00:42:18.001303Z",
     "start_time": "2024-06-23T00:42:17.998014Z"
    }
   },
   "cell_type": "code",
   "source": [
    "# Answer\n",
    "print(data.loc[0, 'answer'])"
   ],
   "id": "6c7c8f9aa505ed0f",
   "outputs": [
    {
     "name": "stdout",
     "output_type": "stream",
     "text": [
      "True\n"
     ]
    }
   ],
   "execution_count": 194
  },
  {
   "metadata": {},
   "cell_type": "markdown",
   "source": "# Prediction Presentation\n",
   "id": "4c2cc757c7d456ee"
  },
  {
   "metadata": {
    "ExecuteTime": {
     "end_time": "2024-06-24T00:04:08.455478Z",
     "start_time": "2024-06-24T00:04:08.452441Z"
    }
   },
   "cell_type": "code",
   "source": [
    "from src.utils.file import get_evaluation_file_path\n",
    "\n",
    "path = get_evaluation_file_path(event_n=3, formula_n=3, count=300, model=\"qwen:7b-chat\")"
   ],
   "id": "585c4441de6ceb67",
   "outputs": [],
   "execution_count": 216
  },
  {
   "metadata": {
    "ExecuteTime": {
     "end_time": "2024-06-24T00:04:09.128313Z",
     "start_time": "2024-06-24T00:04:09.120599Z"
    }
   },
   "cell_type": "code",
   "source": "data.head()",
   "id": "ca1ca3ca4a0977d6",
   "outputs": [
    {
     "data": {
      "text/plain": [
       "                                             context  \\\n",
       "0  Initially, event1 happened. After event1, even...   \n",
       "1  Initially, event1 happened. After event1, no o...   \n",
       "2  Initially, event2 happened. After event2, even...   \n",
       "3  Initially, event1 happened. After event1, no o...   \n",
       "4  Initially, event2 happened. After event2, even...   \n",
       "\n",
       "                                               query  \\\n",
       "0  C1: Event2 will always happen at any future ti...   \n",
       "1  C1: Event1 does not happen.\\nC2: C1 will happe...   \n",
       "2  C1: Event2 will happen eventually.\\nC2: That e...   \n",
       "3  C1: Event1 happens or event2 happens.\\nC2: C1 ...   \n",
       "4  C1: That event2 happens implies that event2 ha...   \n",
       "\n",
       "                                            question  \\\n",
       "0  === Context ===\\n\\nInitially, event1 happened....   \n",
       "1  === Context ===\\n\\nInitially, event1 happened....   \n",
       "2  === Context ===\\n\\nInitially, event2 happened....   \n",
       "3  === Context ===\\n\\nInitially, event1 happened....   \n",
       "4  === Context ===\\n\\nInitially, event2 happened....   \n",
       "\n",
       "                                                code  \\\n",
       "0  MODULE main\\nVAR\\n    state : {event1, event2}...   \n",
       "1  MODULE main\\nVAR\\n    state : {event1, event2}...   \n",
       "2  MODULE main\\nVAR\\n    state : {event1, event2}...   \n",
       "3  MODULE main\\nVAR\\n    state : {event1, event2}...   \n",
       "4  MODULE main\\nVAR\\n    state : {event1, event2}...   \n",
       "\n",
       "                                             formula  answer  \\\n",
       "0          ((G event2) | ((G event2) -> (G event2)))       1   \n",
       "1                  (! (! (event1 | (X (! event1)))))       1   \n",
       "2  ((event2 -> (F event2)) -> (event2 -> (F event...       1   \n",
       "3  (((event1 | event2) | event1) -> ((event1 | ev...       1   \n",
       "4  (event2 -> ((event2 -> event2) & (F (event2 ->...       1   \n",
       "\n",
       "                                               graph  prediction  \\\n",
       "0  <graphml xmlns=\"http://graphml.graphdrawing.or...           1   \n",
       "1  <graphml xmlns=\"http://graphml.graphdrawing.or...           0   \n",
       "2  <graphml xmlns=\"http://graphml.graphdrawing.or...           1   \n",
       "3  <graphml xmlns=\"http://graphml.graphdrawing.or...           0   \n",
       "4  <graphml xmlns=\"http://graphml.graphdrawing.or...           1   \n",
       "\n",
       "  prediction_raw  \n",
       "0           True  \n",
       "1          False  \n",
       "2           True  \n",
       "3          False  \n",
       "4           True  "
      ],
      "text/html": [
       "<div>\n",
       "<style scoped>\n",
       "    .dataframe tbody tr th:only-of-type {\n",
       "        vertical-align: middle;\n",
       "    }\n",
       "\n",
       "    .dataframe tbody tr th {\n",
       "        vertical-align: top;\n",
       "    }\n",
       "\n",
       "    .dataframe thead th {\n",
       "        text-align: right;\n",
       "    }\n",
       "</style>\n",
       "<table border=\"1\" class=\"dataframe\">\n",
       "  <thead>\n",
       "    <tr style=\"text-align: right;\">\n",
       "      <th></th>\n",
       "      <th>context</th>\n",
       "      <th>query</th>\n",
       "      <th>question</th>\n",
       "      <th>code</th>\n",
       "      <th>formula</th>\n",
       "      <th>answer</th>\n",
       "      <th>graph</th>\n",
       "      <th>prediction</th>\n",
       "      <th>prediction_raw</th>\n",
       "    </tr>\n",
       "  </thead>\n",
       "  <tbody>\n",
       "    <tr>\n",
       "      <th>0</th>\n",
       "      <td>Initially, event1 happened. After event1, even...</td>\n",
       "      <td>C1: Event2 will always happen at any future ti...</td>\n",
       "      <td>=== Context ===\\n\\nInitially, event1 happened....</td>\n",
       "      <td>MODULE main\\nVAR\\n    state : {event1, event2}...</td>\n",
       "      <td>((G event2) | ((G event2) -&gt; (G event2)))</td>\n",
       "      <td>1</td>\n",
       "      <td>&lt;graphml xmlns=\"http://graphml.graphdrawing.or...</td>\n",
       "      <td>1</td>\n",
       "      <td>True</td>\n",
       "    </tr>\n",
       "    <tr>\n",
       "      <th>1</th>\n",
       "      <td>Initially, event1 happened. After event1, no o...</td>\n",
       "      <td>C1: Event1 does not happen.\\nC2: C1 will happe...</td>\n",
       "      <td>=== Context ===\\n\\nInitially, event1 happened....</td>\n",
       "      <td>MODULE main\\nVAR\\n    state : {event1, event2}...</td>\n",
       "      <td>(! (! (event1 | (X (! event1)))))</td>\n",
       "      <td>1</td>\n",
       "      <td>&lt;graphml xmlns=\"http://graphml.graphdrawing.or...</td>\n",
       "      <td>0</td>\n",
       "      <td>False</td>\n",
       "    </tr>\n",
       "    <tr>\n",
       "      <th>2</th>\n",
       "      <td>Initially, event2 happened. After event2, even...</td>\n",
       "      <td>C1: Event2 will happen eventually.\\nC2: That e...</td>\n",
       "      <td>=== Context ===\\n\\nInitially, event2 happened....</td>\n",
       "      <td>MODULE main\\nVAR\\n    state : {event1, event2}...</td>\n",
       "      <td>((event2 -&gt; (F event2)) -&gt; (event2 -&gt; (F event...</td>\n",
       "      <td>1</td>\n",
       "      <td>&lt;graphml xmlns=\"http://graphml.graphdrawing.or...</td>\n",
       "      <td>1</td>\n",
       "      <td>True</td>\n",
       "    </tr>\n",
       "    <tr>\n",
       "      <th>3</th>\n",
       "      <td>Initially, event1 happened. After event1, no o...</td>\n",
       "      <td>C1: Event1 happens or event2 happens.\\nC2: C1 ...</td>\n",
       "      <td>=== Context ===\\n\\nInitially, event1 happened....</td>\n",
       "      <td>MODULE main\\nVAR\\n    state : {event1, event2}...</td>\n",
       "      <td>(((event1 | event2) | event1) -&gt; ((event1 | ev...</td>\n",
       "      <td>1</td>\n",
       "      <td>&lt;graphml xmlns=\"http://graphml.graphdrawing.or...</td>\n",
       "      <td>0</td>\n",
       "      <td>False</td>\n",
       "    </tr>\n",
       "    <tr>\n",
       "      <th>4</th>\n",
       "      <td>Initially, event2 happened. After event2, even...</td>\n",
       "      <td>C1: That event2 happens implies that event2 ha...</td>\n",
       "      <td>=== Context ===\\n\\nInitially, event2 happened....</td>\n",
       "      <td>MODULE main\\nVAR\\n    state : {event1, event2}...</td>\n",
       "      <td>(event2 -&gt; ((event2 -&gt; event2) &amp; (F (event2 -&gt;...</td>\n",
       "      <td>1</td>\n",
       "      <td>&lt;graphml xmlns=\"http://graphml.graphdrawing.or...</td>\n",
       "      <td>1</td>\n",
       "      <td>True</td>\n",
       "    </tr>\n",
       "  </tbody>\n",
       "</table>\n",
       "</div>"
      ]
     },
     "execution_count": 217,
     "metadata": {},
     "output_type": "execute_result"
    }
   ],
   "execution_count": 217
  },
  {
   "metadata": {
    "ExecuteTime": {
     "end_time": "2024-06-24T00:00:09.730583Z",
     "start_time": "2024-06-24T00:00:09.726003Z"
    }
   },
   "cell_type": "code",
   "source": "data.info()",
   "id": "f2e310c4552335af",
   "outputs": [
    {
     "name": "stdout",
     "output_type": "stream",
     "text": [
      "<class 'pandas.core.frame.DataFrame'>\n",
      "RangeIndex: 300 entries, 0 to 299\n",
      "Data columns (total 9 columns):\n",
      " #   Column          Non-Null Count  Dtype \n",
      "---  ------          --------------  ----- \n",
      " 0   context         300 non-null    object\n",
      " 1   query           300 non-null    object\n",
      " 2   question        300 non-null    object\n",
      " 3   code            300 non-null    object\n",
      " 4   formula         300 non-null    object\n",
      " 5   answer          300 non-null    int64 \n",
      " 6   graph           300 non-null    object\n",
      " 7   prediction      300 non-null    int64 \n",
      " 8   prediction_raw  300 non-null    object\n",
      "dtypes: int64(2), object(7)\n",
      "memory usage: 21.2+ KB\n"
     ]
    }
   ],
   "execution_count": 215
  },
  {
   "metadata": {
    "ExecuteTime": {
     "end_time": "2024-06-24T00:07:06.174430Z",
     "start_time": "2024-06-24T00:07:06.169953Z"
    }
   },
   "cell_type": "code",
   "source": [
    "# Accuracy\n",
    "print(f'{len(data[data['answer'] == data['prediction']]) / len(data)}%')"
   ],
   "id": "aca2af3920d34c78",
   "outputs": [
    {
     "name": "stdout",
     "output_type": "stream",
     "text": [
      "0.5966666666666667%\n"
     ]
    }
   ],
   "execution_count": 226
  },
  {
   "metadata": {
    "ExecuteTime": {
     "end_time": "2024-06-24T00:07:48.358407Z",
     "start_time": "2024-06-24T00:07:48.353314Z"
    }
   },
   "cell_type": "code",
   "source": [
    "# Prediction Distribution\n",
    "data['prediction'].value_counts()"
   ],
   "id": "a61f2fab30b3c25c",
   "outputs": [
    {
     "data": {
      "text/plain": [
       "prediction\n",
       "0    195\n",
       "1    105\n",
       "Name: count, dtype: int64"
      ]
     },
     "execution_count": 228,
     "metadata": {},
     "output_type": "execute_result"
    }
   ],
   "execution_count": 228
  },
  {
   "metadata": {
    "ExecuteTime": {
     "end_time": "2024-06-24T00:09:16.616838Z",
     "start_time": "2024-06-24T00:09:16.610511Z"
    }
   },
   "cell_type": "code",
   "source": [
    "# Precision, Recall, F1\n",
    "from sklearn.metrics import precision_score, recall_score, f1_score\n",
    "\n",
    "precision = precision_score(data['answer'], data['prediction'], average='macro')\n",
    "recall = recall_score(data['answer'], data['prediction'], average='macro')\n",
    "f1 = f1_score(data['answer'], data['prediction'], average='macro')\n",
    "\n",
    "print(\"Precision:\", precision)\n",
    "print(\"Recall:\", recall)\n",
    "print(\"F1:\", f1)"
   ],
   "id": "8ff8b67586b4ac70",
   "outputs": [
    {
     "name": "stdout",
     "output_type": "stream",
     "text": [
      "Precision: 0.6062271062271062\n",
      "Recall: 0.5966666666666667\n",
      "F1: 0.5873827791986359\n"
     ]
    }
   ],
   "execution_count": 230
  },
  {
   "metadata": {},
   "cell_type": "markdown",
   "source": "# LLMs Evaluation",
   "id": "9f028127ac46ca0a"
  },
  {
   "metadata": {},
   "cell_type": "code",
   "outputs": [],
   "execution_count": null,
   "source": "# TODO",
   "id": "21a3cf8907c8191b"
  }
 ],
 "metadata": {
  "kernelspec": {
   "display_name": "Python 3",
   "language": "python",
   "name": "python3"
  },
  "language_info": {
   "codemirror_mode": {
    "name": "ipython",
    "version": 2
   },
   "file_extension": ".py",
   "mimetype": "text/x-python",
   "name": "python",
   "nbconvert_exporter": "python",
   "pygments_lexer": "ipython2",
   "version": "2.7.6"
  }
 },
 "nbformat": 4,
 "nbformat_minor": 5
}
