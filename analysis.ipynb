{
 "cells": [
  {
   "metadata": {
    "ExecuteTime": {
     "end_time": "2024-06-23T00:41:25.057765Z",
     "start_time": "2024-06-23T00:41:25.054650Z"
    }
   },
   "cell_type": "code",
   "source": [
    "import numpy as np\n",
    "import pandas as pd\n",
    "import matplotlib.pyplot as plt\n",
    "import networkx as nx\n",
    "import io\n",
    "\n",
    "\n",
    "from src.utils.file import get_data_file_path \n",
    "\n",
    "#%load_ext autoreload"
   ],
   "id": "fec3efec24f89302",
   "outputs": [],
   "execution_count": 181
  },
  {
   "metadata": {
    "ExecuteTime": {
     "end_time": "2024-06-23T00:41:25.501693Z",
     "start_time": "2024-06-23T00:41:25.497143Z"
    }
   },
   "cell_type": "code",
   "source": [
    "# Experiment 1: Fix events n, increase formulas n, to have (accuracy, precision, recall, f1) for each model, draw line chart \n",
    "# Experiment 2: Fix formulas n, increase events n, to have (accuracy, precision, recall, f1) for each model, draw line chart"
   ],
   "id": "e09d46f46357ea60",
   "outputs": [],
   "execution_count": 182
  },
  {
   "metadata": {},
   "cell_type": "markdown",
   "source": "# Data Presentation",
   "id": "bd6097bc71146be7"
  },
  {
   "metadata": {
    "ExecuteTime": {
     "end_time": "2024-06-23T00:41:25.748503Z",
     "start_time": "2024-06-23T00:41:25.742328Z"
    }
   },
   "cell_type": "code",
   "source": [
    "path = get_data_file_path(event_n=3, formula_n=3, count=300)\n",
    "data = pd.read_csv(path)"
   ],
   "id": "6ca8f4b03b2ea0ee",
   "outputs": [],
   "execution_count": 183
  },
  {
   "metadata": {
    "ExecuteTime": {
     "end_time": "2024-06-23T00:41:25.893008Z",
     "start_time": "2024-06-23T00:41:25.884778Z"
    }
   },
   "cell_type": "code",
   "source": "data.head()",
   "id": "1b93c24a62ca25e4",
   "outputs": [
    {
     "data": {
      "text/plain": [
       "                                             context  \\\n",
       "0  Initially, event3 happened. After event1, even...   \n",
       "1  Initially, event1 happened. After event3, no o...   \n",
       "2  Initially, event2 happened. After event2, even...   \n",
       "3  Initially, event3 happened. After event1, even...   \n",
       "4  Initially, event2 happened. After event1, even...   \n",
       "\n",
       "                                               query  \\\n",
       "0  C1: Event1 happens or event2 happens.\\nC2: C1 ...   \n",
       "1  C1: Event2 will happen eventually.\\nC2: That e...   \n",
       "2  C1: Event3 will happen at next time.\\nC2: Even...   \n",
       "3  C1: Event2 happens and event3 happens.\\nC2: Ev...   \n",
       "4  C1: Event3 happens or event3 happens.\\nC2: C1 ...   \n",
       "\n",
       "                                            question  \\\n",
       "0  === Context ===\\n\\nInitially, event3 happened....   \n",
       "1  === Context ===\\n\\nInitially, event1 happened....   \n",
       "2  === Context ===\\n\\nInitially, event2 happened....   \n",
       "3  === Context ===\\n\\nInitially, event3 happened....   \n",
       "4  === Context ===\\n\\nInitially, event2 happened....   \n",
       "\n",
       "                                                code  \\\n",
       "0  MODULE main\\nVAR\\n    state : {event1, event2,...   \n",
       "1  MODULE main\\nVAR\\n    state : {event1, event2,...   \n",
       "2  MODULE main\\nVAR\\n    state : {event1, event2,...   \n",
       "3  MODULE main\\nVAR\\n    state : {event1, event2,...   \n",
       "4  MODULE main\\nVAR\\n    state : {event1, event2,...   \n",
       "\n",
       "                            formula  answer  \\\n",
       "0  (X ((event1 | event2) & event1))    True   \n",
       "1        (G (event2 -> (F event2)))    True   \n",
       "2        ((X event3) -> (X event3))    True   \n",
       "3  (! (event1 | (event2 & event3)))    True   \n",
       "4  (! ((event3 | event3) | event1))    True   \n",
       "\n",
       "                                               graph  \n",
       "0  <graphml xmlns=\"http://graphml.graphdrawing.or...  \n",
       "1  <graphml xmlns=\"http://graphml.graphdrawing.or...  \n",
       "2  <graphml xmlns=\"http://graphml.graphdrawing.or...  \n",
       "3  <graphml xmlns=\"http://graphml.graphdrawing.or...  \n",
       "4  <graphml xmlns=\"http://graphml.graphdrawing.or...  "
      ],
      "text/html": [
       "<div>\n",
       "<style scoped>\n",
       "    .dataframe tbody tr th:only-of-type {\n",
       "        vertical-align: middle;\n",
       "    }\n",
       "\n",
       "    .dataframe tbody tr th {\n",
       "        vertical-align: top;\n",
       "    }\n",
       "\n",
       "    .dataframe thead th {\n",
       "        text-align: right;\n",
       "    }\n",
       "</style>\n",
       "<table border=\"1\" class=\"dataframe\">\n",
       "  <thead>\n",
       "    <tr style=\"text-align: right;\">\n",
       "      <th></th>\n",
       "      <th>context</th>\n",
       "      <th>query</th>\n",
       "      <th>question</th>\n",
       "      <th>code</th>\n",
       "      <th>formula</th>\n",
       "      <th>answer</th>\n",
       "      <th>graph</th>\n",
       "    </tr>\n",
       "  </thead>\n",
       "  <tbody>\n",
       "    <tr>\n",
       "      <th>0</th>\n",
       "      <td>Initially, event3 happened. After event1, even...</td>\n",
       "      <td>C1: Event1 happens or event2 happens.\\nC2: C1 ...</td>\n",
       "      <td>=== Context ===\\n\\nInitially, event3 happened....</td>\n",
       "      <td>MODULE main\\nVAR\\n    state : {event1, event2,...</td>\n",
       "      <td>(X ((event1 | event2) &amp; event1))</td>\n",
       "      <td>True</td>\n",
       "      <td>&lt;graphml xmlns=\"http://graphml.graphdrawing.or...</td>\n",
       "    </tr>\n",
       "    <tr>\n",
       "      <th>1</th>\n",
       "      <td>Initially, event1 happened. After event3, no o...</td>\n",
       "      <td>C1: Event2 will happen eventually.\\nC2: That e...</td>\n",
       "      <td>=== Context ===\\n\\nInitially, event1 happened....</td>\n",
       "      <td>MODULE main\\nVAR\\n    state : {event1, event2,...</td>\n",
       "      <td>(G (event2 -&gt; (F event2)))</td>\n",
       "      <td>True</td>\n",
       "      <td>&lt;graphml xmlns=\"http://graphml.graphdrawing.or...</td>\n",
       "    </tr>\n",
       "    <tr>\n",
       "      <th>2</th>\n",
       "      <td>Initially, event2 happened. After event2, even...</td>\n",
       "      <td>C1: Event3 will happen at next time.\\nC2: Even...</td>\n",
       "      <td>=== Context ===\\n\\nInitially, event2 happened....</td>\n",
       "      <td>MODULE main\\nVAR\\n    state : {event1, event2,...</td>\n",
       "      <td>((X event3) -&gt; (X event3))</td>\n",
       "      <td>True</td>\n",
       "      <td>&lt;graphml xmlns=\"http://graphml.graphdrawing.or...</td>\n",
       "    </tr>\n",
       "    <tr>\n",
       "      <th>3</th>\n",
       "      <td>Initially, event3 happened. After event1, even...</td>\n",
       "      <td>C1: Event2 happens and event3 happens.\\nC2: Ev...</td>\n",
       "      <td>=== Context ===\\n\\nInitially, event3 happened....</td>\n",
       "      <td>MODULE main\\nVAR\\n    state : {event1, event2,...</td>\n",
       "      <td>(! (event1 | (event2 &amp; event3)))</td>\n",
       "      <td>True</td>\n",
       "      <td>&lt;graphml xmlns=\"http://graphml.graphdrawing.or...</td>\n",
       "    </tr>\n",
       "    <tr>\n",
       "      <th>4</th>\n",
       "      <td>Initially, event2 happened. After event1, even...</td>\n",
       "      <td>C1: Event3 happens or event3 happens.\\nC2: C1 ...</td>\n",
       "      <td>=== Context ===\\n\\nInitially, event2 happened....</td>\n",
       "      <td>MODULE main\\nVAR\\n    state : {event1, event2,...</td>\n",
       "      <td>(! ((event3 | event3) | event1))</td>\n",
       "      <td>True</td>\n",
       "      <td>&lt;graphml xmlns=\"http://graphml.graphdrawing.or...</td>\n",
       "    </tr>\n",
       "  </tbody>\n",
       "</table>\n",
       "</div>"
      ]
     },
     "execution_count": 184,
     "metadata": {},
     "output_type": "execute_result"
    }
   ],
   "execution_count": 184
  },
  {
   "metadata": {
    "ExecuteTime": {
     "end_time": "2024-06-23T00:41:26.082390Z",
     "start_time": "2024-06-23T00:41:26.078805Z"
    }
   },
   "cell_type": "code",
   "source": "data.info()",
   "id": "5c45eb8ce4621f26",
   "outputs": [
    {
     "name": "stdout",
     "output_type": "stream",
     "text": [
      "<class 'pandas.core.frame.DataFrame'>\n",
      "RangeIndex: 300 entries, 0 to 299\n",
      "Data columns (total 7 columns):\n",
      " #   Column    Non-Null Count  Dtype \n",
      "---  ------    --------------  ----- \n",
      " 0   context   300 non-null    object\n",
      " 1   query     300 non-null    object\n",
      " 2   question  300 non-null    object\n",
      " 3   code      300 non-null    object\n",
      " 4   formula   300 non-null    object\n",
      " 5   answer    300 non-null    bool  \n",
      " 6   graph     300 non-null    object\n",
      "dtypes: bool(1), object(6)\n",
      "memory usage: 14.5+ KB\n"
     ]
    }
   ],
   "execution_count": 185
  },
  {
   "metadata": {
    "ExecuteTime": {
     "end_time": "2024-06-23T00:41:26.217949Z",
     "start_time": "2024-06-23T00:41:26.215961Z"
    }
   },
   "cell_type": "code",
   "source": [
    "# Context\n",
    "print(data.loc[0, 'context'])"
   ],
   "id": "9ab13c9cce53dfd0",
   "outputs": [
    {
     "name": "stdout",
     "output_type": "stream",
     "text": [
      "Initially, event3 happened. After event1, event2 will happen. After event2, event1 will happen. After event3, event1 will happen.\n"
     ]
    }
   ],
   "execution_count": 186
  },
  {
   "metadata": {
    "ExecuteTime": {
     "end_time": "2024-06-23T00:41:26.708889Z",
     "start_time": "2024-06-23T00:41:26.706717Z"
    }
   },
   "cell_type": "code",
   "source": [
    "# Query \n",
    "print(data.loc[0, 'query'])"
   ],
   "id": "a798c9fb4bf99317",
   "outputs": [
    {
     "name": "stdout",
     "output_type": "stream",
     "text": [
      "C1: Event1 happens or event2 happens.\n",
      "C2: C1 holds and event1 happens.\n",
      "C3: C2 will happen at next time.\n"
     ]
    }
   ],
   "execution_count": 187
  },
  {
   "metadata": {
    "ExecuteTime": {
     "end_time": "2024-06-23T00:41:27.009795Z",
     "start_time": "2024-06-23T00:41:27.006490Z"
    }
   },
   "cell_type": "code",
   "source": [
    "# Question\n",
    "print(data.loc[0, 'question'])"
   ],
   "id": "9d489038d8904345",
   "outputs": [
    {
     "name": "stdout",
     "output_type": "stream",
     "text": [
      "=== Context ===\n",
      "\n",
      "Initially, event3 happened. After event1, event2 will happen. After event2, event1 will happen. After event3, event1 will happen.\n",
      "\n",
      "=== Hypothesis ===\n",
      "\n",
      "C1: Event1 happens or event2 happens.\n",
      "C2: C1 holds and event1 happens.\n",
      "C3: C2 will happen at next time.\n",
      "\n",
      "C3 is True or False? Answer with \"True\" or \"False\" directly:\n",
      "\n"
     ]
    }
   ],
   "execution_count": 188
  },
  {
   "metadata": {
    "ExecuteTime": {
     "end_time": "2024-06-23T00:41:27.132714Z",
     "start_time": "2024-06-23T00:41:27.129260Z"
    }
   },
   "cell_type": "code",
   "source": [
    "# Code\n",
    "print(data.loc[0, 'code'])"
   ],
   "id": "86eb1db67f024edd",
   "outputs": [
    {
     "name": "stdout",
     "output_type": "stream",
     "text": [
      "MODULE main\n",
      "VAR\n",
      "    state : {event1, event2, event3};\n",
      "ASSIGN\n",
      "    init(state) := event3;\n",
      "    next(state) := case\n",
      "        state = event1 : event2;\n",
      "\t\tstate = event2 : event1;\n",
      "\t\tstate = event3 : event1;\n",
      "    esac;\n",
      "LTLSPEC (X (((state=event1) | (state=event2)) & (state=event1)))\n",
      "\n"
     ]
    }
   ],
   "execution_count": 189
  },
  {
   "metadata": {
    "ExecuteTime": {
     "end_time": "2024-06-23T00:41:27.633824Z",
     "start_time": "2024-06-23T00:41:27.627737Z"
    }
   },
   "cell_type": "code",
   "source": [
    "# Formula\n",
    "print(data.loc[0, 'formula'])"
   ],
   "id": "169528b8a773e868",
   "outputs": [
    {
     "name": "stdout",
     "output_type": "stream",
     "text": [
      "(X ((event1 | event2) & event1))\n"
     ]
    }
   ],
   "execution_count": 190
  },
  {
   "metadata": {
    "ExecuteTime": {
     "end_time": "2024-06-23T00:41:50.064252Z",
     "start_time": "2024-06-23T00:41:50.001311Z"
    }
   },
   "cell_type": "code",
   "source": [
    "# Plot Graph\n",
    "graph = nx.read_graphml(io.StringIO(data.loc[0, 'graph']))\n",
    "nx.draw(graph, with_labels=True, node_size=3000, node_color='skyblue')\n",
    "plt.show()"
   ],
   "id": "dc4a29f03b7c7aa3",
   "outputs": [
    {
     "data": {
      "text/plain": [
       "<Figure size 640x480 with 1 Axes>"
      ],
      "image/png": "[encoded data removed]"
     },
     "metadata": {},
     "output_type": "display_data"
    }
   ],
   "execution_count": 193
  },
  {
   "metadata": {
    "ExecuteTime": {
     "end_time": "2024-06-23T00:42:18.001303Z",
     "start_time": "2024-06-23T00:42:17.998014Z"
    }
   },
   "cell_type": "code",
   "source": [
    "# Answer\n",
    "print(data.loc[0, 'answer'])"
   ],
   "id": "6c7c8f9aa505ed0f",
   "outputs": [
    {
     "name": "stdout",
     "output_type": "stream",
     "text": [
      "True\n"
     ]
    }
   ],
   "execution_count": 194
  },
  {
   "metadata": {},
   "cell_type": "markdown",
   "source": [
    "# Prediction Presentation\n",
    "\n",
    "TODO"
   ],
   "id": "4c2cc757c7d456ee"
  },
  {
   "metadata": {
    "ExecuteTime": {
     "end_time": "2024-06-22T23:34:20.769806Z",
     "start_time": "2024-06-22T23:34:20.752520Z"
    }
   },
   "cell_type": "code",
   "source": [
    "import numpy as np\n",
    "from src.utils.file import get_evaluation_file_path, get_data_file_path\n",
    "import pandas as pd\n",
    "\n",
    "data = pd.read_csv(get_evaluation_file_path(event_n=3, formula_n=3, count=300, model=\"qwen:32b-chat\"))\n",
    "data['answer'] = data['answer'].apply(lambda x: np.int64(1) if x == True else np.int64(0))\n",
    "data['prediction'] = data['prediction'].astype(np.int64)\n",
    "data"
   ],
   "id": "4cd212199c75035",
   "outputs": [
    {
     "data": {
      "text/plain": [
       "                                               context  \\\n",
       "0    Initially, event3 happened. After event1, even...   \n",
       "1    Initially, event1 happened. After event3, no o...   \n",
       "2    Initially, event2 happened. After event2, even...   \n",
       "3    Initially, event3 happened. After event1, even...   \n",
       "4    Initially, event2 happened. After event1, even...   \n",
       "..                                                 ...   \n",
       "295  Initially, event3 happened. After event3, even...   \n",
       "296  Initially, event1 happened. After event3, even...   \n",
       "297  Initially, event3 happened. After event3, even...   \n",
       "298  Initially, event1 happened. After event1, even...   \n",
       "299  Initially, event2 happened. After event3, even...   \n",
       "\n",
       "                                                 query  \\\n",
       "0    C1: Event1 happens or event2 happens.\\nC2: C1 ...   \n",
       "1    C1: Event2 will happen eventually.\\nC2: That e...   \n",
       "2    C1: Event3 will happen at next time.\\nC2: Even...   \n",
       "3    C1: Event2 happens and event3 happens.\\nC2: Ev...   \n",
       "4    C1: Event3 happens or event3 happens.\\nC2: C1 ...   \n",
       "..                                                 ...   \n",
       "295  C1: Event2 happens and event3 happens.\\nC2: C1...   \n",
       "296  C1: Event1 will happen eventually.\\nC2: That C...   \n",
       "297  C1: Event2 happens and event1 happens.\\nC2: Th...   \n",
       "298  C1: That event3 happens implies that event1 ha...   \n",
       "299  C1: Event1 happens or event1 happens.\\nC2: Tha...   \n",
       "\n",
       "                                              question  \\\n",
       "0    === Context ===\\n\\nInitially, event3 happened....   \n",
       "1    === Context ===\\n\\nInitially, event1 happened....   \n",
       "2    === Context ===\\n\\nInitially, event2 happened....   \n",
       "3    === Context ===\\n\\nInitially, event3 happened....   \n",
       "4    === Context ===\\n\\nInitially, event2 happened....   \n",
       "..                                                 ...   \n",
       "295  === Context ===\\n\\nInitially, event3 happened....   \n",
       "296  === Context ===\\n\\nInitially, event1 happened....   \n",
       "297  === Context ===\\n\\nInitially, event3 happened....   \n",
       "298  === Context ===\\n\\nInitially, event1 happened....   \n",
       "299  === Context ===\\n\\nInitially, event2 happened....   \n",
       "\n",
       "                                                  code  \\\n",
       "0    MODULE main\\nVAR\\n    state : {event1, event2,...   \n",
       "1    MODULE main\\nVAR\\n    state : {event1, event2,...   \n",
       "2    MODULE main\\nVAR\\n    state : {event1, event2,...   \n",
       "3    MODULE main\\nVAR\\n    state : {event1, event2,...   \n",
       "4    MODULE main\\nVAR\\n    state : {event1, event2,...   \n",
       "..                                                 ...   \n",
       "295  MODULE main\\nVAR\\n    state : {event1, event2,...   \n",
       "296  MODULE main\\nVAR\\n    state : {event1, event2,...   \n",
       "297  MODULE main\\nVAR\\n    state : {event1, event2,...   \n",
       "298  MODULE main\\nVAR\\n    state : {event1, event2,...   \n",
       "299  MODULE main\\nVAR\\n    state : {event1, event2,...   \n",
       "\n",
       "                               formula  answer  \\\n",
       "0     (X ((event1 | event2) & event1))       1   \n",
       "1           (G (event2 -> (F event2)))       1   \n",
       "2           ((X event3) -> (X event3))       1   \n",
       "3     (! (event1 | (event2 & event3)))       1   \n",
       "4     (! ((event3 | event3) | event1))       1   \n",
       "..                                 ...     ...   \n",
       "295          (! (! (event2 & event3)))       0   \n",
       "296         (! ((F event1) -> event1))       0   \n",
       "297  (! (event2 -> (event2 & event1)))       0   \n",
       "298         (F (! (event3 -> event1)))       0   \n",
       "299  (G ((event1 | event1) -> event3))       0   \n",
       "\n",
       "                                                 graph  prediction  \\\n",
       "0    <graphml xmlns=\"http://graphml.graphdrawing.or...           0   \n",
       "1    <graphml xmlns=\"http://graphml.graphdrawing.or...           0   \n",
       "2    <graphml xmlns=\"http://graphml.graphdrawing.or...           1   \n",
       "3    <graphml xmlns=\"http://graphml.graphdrawing.or...           0   \n",
       "4    <graphml xmlns=\"http://graphml.graphdrawing.or...           0   \n",
       "..                                                 ...         ...   \n",
       "295  <graphml xmlns=\"http://graphml.graphdrawing.or...           1   \n",
       "296  <graphml xmlns=\"http://graphml.graphdrawing.or...           0   \n",
       "297  <graphml xmlns=\"http://graphml.graphdrawing.or...           0   \n",
       "298  <graphml xmlns=\"http://graphml.graphdrawing.or...           1   \n",
       "299  <graphml xmlns=\"http://graphml.graphdrawing.or...           1   \n",
       "\n",
       "     prediction_raw  \n",
       "0             False  \n",
       "1             False  \n",
       "2              True  \n",
       "3             False  \n",
       "4             False  \n",
       "..              ...  \n",
       "295            True  \n",
       "296           False  \n",
       "297           False  \n",
       "298            True  \n",
       "299            True  \n",
       "\n",
       "[300 rows x 9 columns]"
      ],
      "text/html": [
       "<div>\n",
       "<style scoped>\n",
       "    .dataframe tbody tr th:only-of-type {\n",
       "        vertical-align: middle;\n",
       "    }\n",
       "\n",
       "    .dataframe tbody tr th {\n",
       "        vertical-align: top;\n",
       "    }\n",
       "\n",
       "    .dataframe thead th {\n",
       "        text-align: right;\n",
       "    }\n",
       "</style>\n",
       "<table border=\"1\" class=\"dataframe\">\n",
       "  <thead>\n",
       "    <tr style=\"text-align: right;\">\n",
       "      <th></th>\n",
       "      <th>context</th>\n",
       "      <th>query</th>\n",
       "      <th>question</th>\n",
       "      <th>code</th>\n",
       "      <th>formula</th>\n",
       "      <th>answer</th>\n",
       "      <th>graph</th>\n",
       "      <th>prediction</th>\n",
       "      <th>prediction_raw</th>\n",
       "    </tr>\n",
       "  </thead>\n",
       "  <tbody>\n",
       "    <tr>\n",
       "      <th>0</th>\n",
       "      <td>Initially, event3 happened. After event1, even...</td>\n",
       "      <td>C1: Event1 happens or event2 happens.\\nC2: C1 ...</td>\n",
       "      <td>=== Context ===\\n\\nInitially, event3 happened....</td>\n",
       "      <td>MODULE main\\nVAR\\n    state : {event1, event2,...</td>\n",
       "      <td>(X ((event1 | event2) &amp; event1))</td>\n",
       "      <td>1</td>\n",
       "      <td>&lt;graphml xmlns=\"http://graphml.graphdrawing.or...</td>\n",
       "      <td>0</td>\n",
       "      <td>False</td>\n",
       "    </tr>\n",
       "    <tr>\n",
       "      <th>1</th>\n",
       "      <td>Initially, event1 happened. After event3, no o...</td>\n",
       "      <td>C1: Event2 will happen eventually.\\nC2: That e...</td>\n",
       "      <td>=== Context ===\\n\\nInitially, event1 happened....</td>\n",
       "      <td>MODULE main\\nVAR\\n    state : {event1, event2,...</td>\n",
       "      <td>(G (event2 -&gt; (F event2)))</td>\n",
       "      <td>1</td>\n",
       "      <td>&lt;graphml xmlns=\"http://graphml.graphdrawing.or...</td>\n",
       "      <td>0</td>\n",
       "      <td>False</td>\n",
       "    </tr>\n",
       "    <tr>\n",
       "      <th>2</th>\n",
       "      <td>Initially, event2 happened. After event2, even...</td>\n",
       "      <td>C1: Event3 will happen at next time.\\nC2: Even...</td>\n",
       "      <td>=== Context ===\\n\\nInitially, event2 happened....</td>\n",
       "      <td>MODULE main\\nVAR\\n    state : {event1, event2,...</td>\n",
       "      <td>((X event3) -&gt; (X event3))</td>\n",
       "      <td>1</td>\n",
       "      <td>&lt;graphml xmlns=\"http://graphml.graphdrawing.or...</td>\n",
       "      <td>1</td>\n",
       "      <td>True</td>\n",
       "    </tr>\n",
       "    <tr>\n",
       "      <th>3</th>\n",
       "      <td>Initially, event3 happened. After event1, even...</td>\n",
       "      <td>C1: Event2 happens and event3 happens.\\nC2: Ev...</td>\n",
       "      <td>=== Context ===\\n\\nInitially, event3 happened....</td>\n",
       "      <td>MODULE main\\nVAR\\n    state : {event1, event2,...</td>\n",
       "      <td>(! (event1 | (event2 &amp; event3)))</td>\n",
       "      <td>1</td>\n",
       "      <td>&lt;graphml xmlns=\"http://graphml.graphdrawing.or...</td>\n",
       "      <td>0</td>\n",
       "      <td>False</td>\n",
       "    </tr>\n",
       "    <tr>\n",
       "      <th>4</th>\n",
       "      <td>Initially, event2 happened. After event1, even...</td>\n",
       "      <td>C1: Event3 happens or event3 happens.\\nC2: C1 ...</td>\n",
       "      <td>=== Context ===\\n\\nInitially, event2 happened....</td>\n",
       "      <td>MODULE main\\nVAR\\n    state : {event1, event2,...</td>\n",
       "      <td>(! ((event3 | event3) | event1))</td>\n",
       "      <td>1</td>\n",
       "      <td>&lt;graphml xmlns=\"http://graphml.graphdrawing.or...</td>\n",
       "      <td>0</td>\n",
       "      <td>False</td>\n",
       "    </tr>\n",
       "    <tr>\n",
       "      <th>...</th>\n",
       "      <td>...</td>\n",
       "      <td>...</td>\n",
       "      <td>...</td>\n",
       "      <td>...</td>\n",
       "      <td>...</td>\n",
       "      <td>...</td>\n",
       "      <td>...</td>\n",
       "      <td>...</td>\n",
       "      <td>...</td>\n",
       "    </tr>\n",
       "    <tr>\n",
       "      <th>295</th>\n",
       "      <td>Initially, event3 happened. After event3, even...</td>\n",
       "      <td>C1: Event2 happens and event3 happens.\\nC2: C1...</td>\n",
       "      <td>=== Context ===\\n\\nInitially, event3 happened....</td>\n",
       "      <td>MODULE main\\nVAR\\n    state : {event1, event2,...</td>\n",
       "      <td>(! (! (event2 &amp; event3)))</td>\n",
       "      <td>0</td>\n",
       "      <td>&lt;graphml xmlns=\"http://graphml.graphdrawing.or...</td>\n",
       "      <td>1</td>\n",
       "      <td>True</td>\n",
       "    </tr>\n",
       "    <tr>\n",
       "      <th>296</th>\n",
       "      <td>Initially, event1 happened. After event3, even...</td>\n",
       "      <td>C1: Event1 will happen eventually.\\nC2: That C...</td>\n",
       "      <td>=== Context ===\\n\\nInitially, event1 happened....</td>\n",
       "      <td>MODULE main\\nVAR\\n    state : {event1, event2,...</td>\n",
       "      <td>(! ((F event1) -&gt; event1))</td>\n",
       "      <td>0</td>\n",
       "      <td>&lt;graphml xmlns=\"http://graphml.graphdrawing.or...</td>\n",
       "      <td>0</td>\n",
       "      <td>False</td>\n",
       "    </tr>\n",
       "    <tr>\n",
       "      <th>297</th>\n",
       "      <td>Initially, event3 happened. After event3, even...</td>\n",
       "      <td>C1: Event2 happens and event1 happens.\\nC2: Th...</td>\n",
       "      <td>=== Context ===\\n\\nInitially, event3 happened....</td>\n",
       "      <td>MODULE main\\nVAR\\n    state : {event1, event2,...</td>\n",
       "      <td>(! (event2 -&gt; (event2 &amp; event1)))</td>\n",
       "      <td>0</td>\n",
       "      <td>&lt;graphml xmlns=\"http://graphml.graphdrawing.or...</td>\n",
       "      <td>0</td>\n",
       "      <td>False</td>\n",
       "    </tr>\n",
       "    <tr>\n",
       "      <th>298</th>\n",
       "      <td>Initially, event1 happened. After event1, even...</td>\n",
       "      <td>C1: That event3 happens implies that event1 ha...</td>\n",
       "      <td>=== Context ===\\n\\nInitially, event1 happened....</td>\n",
       "      <td>MODULE main\\nVAR\\n    state : {event1, event2,...</td>\n",
       "      <td>(F (! (event3 -&gt; event1)))</td>\n",
       "      <td>0</td>\n",
       "      <td>&lt;graphml xmlns=\"http://graphml.graphdrawing.or...</td>\n",
       "      <td>1</td>\n",
       "      <td>True</td>\n",
       "    </tr>\n",
       "    <tr>\n",
       "      <th>299</th>\n",
       "      <td>Initially, event2 happened. After event3, even...</td>\n",
       "      <td>C1: Event1 happens or event1 happens.\\nC2: Tha...</td>\n",
       "      <td>=== Context ===\\n\\nInitially, event2 happened....</td>\n",
       "      <td>MODULE main\\nVAR\\n    state : {event1, event2,...</td>\n",
       "      <td>(G ((event1 | event1) -&gt; event3))</td>\n",
       "      <td>0</td>\n",
       "      <td>&lt;graphml xmlns=\"http://graphml.graphdrawing.or...</td>\n",
       "      <td>1</td>\n",
       "      <td>True</td>\n",
       "    </tr>\n",
       "  </tbody>\n",
       "</table>\n",
       "<p>300 rows × 9 columns</p>\n",
       "</div>"
      ]
     },
     "execution_count": 149,
     "metadata": {},
     "output_type": "execute_result"
    }
   ],
   "execution_count": 149
  },
  {
   "metadata": {
    "ExecuteTime": {
     "end_time": "2024-06-22T23:34:21.569821Z",
     "start_time": "2024-06-22T23:34:21.563953Z"
    }
   },
   "cell_type": "code",
   "source": "len(data[data['answer'] == data['prediction']])",
   "id": "aca2af3920d34c78",
   "outputs": [
    {
     "data": {
      "text/plain": [
       "159"
      ]
     },
     "execution_count": 150,
     "metadata": {},
     "output_type": "execute_result"
    }
   ],
   "execution_count": 150
  },
  {
   "metadata": {
    "ExecuteTime": {
     "end_time": "2024-06-22T23:16:46.063012Z",
     "start_time": "2024-06-22T23:16:46.058679Z"
    }
   },
   "cell_type": "code",
   "source": "data['answer'].value_counts()",
   "id": "a61f2fab30b3c25c",
   "outputs": [
    {
     "data": {
      "text/plain": [
       "answer\n",
       "1    51\n",
       "0    49\n",
       "Name: count, dtype: int64"
      ]
     },
     "execution_count": 135,
     "metadata": {},
     "output_type": "execute_result"
    }
   ],
   "execution_count": 135
  },
  {
   "metadata": {
    "ExecuteTime": {
     "end_time": "2024-06-22T12:48:47.569073Z",
     "start_time": "2024-06-22T12:48:47.565527Z"
    }
   },
   "cell_type": "code",
   "source": "print(data.loc[2, 'code'])",
   "id": "9dea58f75149729b",
   "outputs": [
    {
     "name": "stdout",
     "output_type": "stream",
     "text": [
      "MODULE main\n",
      "VAR\n",
      "    state : {event1, event2, event3};\n",
      "ASSIGN\n",
      "    init(state) := event3;\n",
      "    next(state) := case\n",
      "        state = event3 : event1;\n",
      "\t\tstate = event1 : event1;\n",
      "\t\tstate = event2 : event2;\n",
      "    esac;\n",
      "LTLSPEC (X (state=event3))\n",
      "\n"
     ]
    }
   ],
   "execution_count": 103
  },
  {
   "metadata": {
    "ExecuteTime": {
     "end_time": "2024-06-22T23:47:08.354641Z",
     "start_time": "2024-06-22T23:47:08.351157Z"
    }
   },
   "cell_type": "code",
   "source": "print(data.loc[2, 'question'])",
   "id": "3afbc2a03931acc5",
   "outputs": [
    {
     "name": "stdout",
     "output_type": "stream",
     "text": [
      "=== Context ===\n",
      "\n",
      "Initially, event2 happened. After event2, event3 will happen. After event3, event1 will happen. After event3, event2 will happen. After event1, event2 will happen. After event1, event3 will happen.\n",
      "\n",
      "=== Hypothesis ===\n",
      "\n",
      "C1: Event3 will happen at next time.\n",
      "C2: Event3 will happen at next time.\n",
      "C3: That C1 holds implies that C2 holds.\n",
      "\n",
      "C3 is True or False? Answer with \"True\" or \"False\" directly:\n",
      "\n"
     ]
    }
   ],
   "execution_count": 151
  },
  {
   "metadata": {
    "ExecuteTime": {
     "end_time": "2024-06-22T23:55:11.551419Z",
     "start_time": "2024-06-22T23:55:11.549566Z"
    }
   },
   "cell_type": "code",
   "source": "print(data.loc[2, 'answer'])",
   "id": "721ae21dd086a407",
   "outputs": [
    {
     "name": "stdout",
     "output_type": "stream",
     "text": [
      "1\n"
     ]
    }
   ],
   "execution_count": 152
  },
  {
   "metadata": {
    "ExecuteTime": {
     "end_time": "2024-06-22T23:34:09.955115Z",
     "start_time": "2024-06-22T23:34:09.939350Z"
    }
   },
   "cell_type": "code",
   "source": [
    "path = get_data_file_path(event_n=3, formula_n=3, count=300)\n",
    "data = pd.read_csv(path)\n",
    "data.head(10)"
   ],
   "id": "896c2aa1ab5d2151",
   "outputs": [
    {
     "data": {
      "text/plain": [
       "                                             context  \\\n",
       "0  Initially, event3 happened. After event1, even...   \n",
       "1  Initially, event1 happened. After event3, no o...   \n",
       "2  Initially, event2 happened. After event2, even...   \n",
       "3  Initially, event3 happened. After event1, even...   \n",
       "4  Initially, event2 happened. After event1, even...   \n",
       "5  Initially, event2 happened. After event1, even...   \n",
       "6  Initially, event2 happened. After event3, even...   \n",
       "7  Initially, event3 happened. After event1, no o...   \n",
       "8  Initially, event3 happened. After event1, even...   \n",
       "9  Initially, event3 happened. After event3, no o...   \n",
       "\n",
       "                                               query  \\\n",
       "0  C1: Event1 happens or event2 happens.\\nC2: C1 ...   \n",
       "1  C1: Event2 will happen eventually.\\nC2: That e...   \n",
       "2  C1: Event3 will happen at next time.\\nC2: Even...   \n",
       "3  C1: Event2 happens and event3 happens.\\nC2: Ev...   \n",
       "4  C1: Event3 happens or event3 happens.\\nC2: C1 ...   \n",
       "5  C1: Event2 happens and event3 happens.\\nC2: C1...   \n",
       "6  C1: Event1 happens or event1 happens.\\nC2: C1 ...   \n",
       "7  C1: Event2 happens or event2 happens.\\nC2: C1 ...   \n",
       "8  C1: Event2 does not happen.\\nC2: Event2 does n...   \n",
       "9  C1: Event3 will happen eventually.\\nC2: C1 wil...   \n",
       "\n",
       "                                            question  \\\n",
       "0  === Context ===\\n\\nInitially, event3 happened....   \n",
       "1  === Context ===\\n\\nInitially, event1 happened....   \n",
       "2  === Context ===\\n\\nInitially, event2 happened....   \n",
       "3  === Context ===\\n\\nInitially, event3 happened....   \n",
       "4  === Context ===\\n\\nInitially, event2 happened....   \n",
       "5  === Context ===\\n\\nInitially, event2 happened....   \n",
       "6  === Context ===\\n\\nInitially, event2 happened....   \n",
       "7  === Context ===\\n\\nInitially, event3 happened....   \n",
       "8  === Context ===\\n\\nInitially, event3 happened....   \n",
       "9  === Context ===\\n\\nInitially, event3 happened....   \n",
       "\n",
       "                                                code  \\\n",
       "0  MODULE main\\nVAR\\n    state : {event1, event2,...   \n",
       "1  MODULE main\\nVAR\\n    state : {event1, event2,...   \n",
       "2  MODULE main\\nVAR\\n    state : {event1, event2,...   \n",
       "3  MODULE main\\nVAR\\n    state : {event1, event2,...   \n",
       "4  MODULE main\\nVAR\\n    state : {event1, event2,...   \n",
       "5  MODULE main\\nVAR\\n    state : {event1, event2,...   \n",
       "6  MODULE main\\nVAR\\n    state : {event1, event2,...   \n",
       "7  MODULE main\\nVAR\\n    state : {event1, event2,...   \n",
       "8  MODULE main\\nVAR\\n    state : {event1, event2,...   \n",
       "9  MODULE main\\nVAR\\n    state : {event1, event2,...   \n",
       "\n",
       "                                    formula  answer  \\\n",
       "0          (X ((event1 | event2) & event1))    True   \n",
       "1                (G (event2 -> (F event2)))    True   \n",
       "2                ((X event3) -> (X event3))    True   \n",
       "3          (! (event1 | (event2 & event3)))    True   \n",
       "4          (! ((event3 | event3) | event1))    True   \n",
       "5  (event1 -> ((event2 & event3) | event3))    True   \n",
       "6          (! ((event1 | event1) & event1))    True   \n",
       "7                 (! (G (event2 | event2)))    True   \n",
       "8                 ((! event2) & (! event2))    True   \n",
       "9                        (X (G (F event3)))    True   \n",
       "\n",
       "                                               graph  \n",
       "0  <graphml xmlns=\"http://graphml.graphdrawing.or...  \n",
       "1  <graphml xmlns=\"http://graphml.graphdrawing.or...  \n",
       "2  <graphml xmlns=\"http://graphml.graphdrawing.or...  \n",
       "3  <graphml xmlns=\"http://graphml.graphdrawing.or...  \n",
       "4  <graphml xmlns=\"http://graphml.graphdrawing.or...  \n",
       "5  <graphml xmlns=\"http://graphml.graphdrawing.or...  \n",
       "6  <graphml xmlns=\"http://graphml.graphdrawing.or...  \n",
       "7  <graphml xmlns=\"http://graphml.graphdrawing.or...  \n",
       "8  <graphml xmlns=\"http://graphml.graphdrawing.or...  \n",
       "9  <graphml xmlns=\"http://graphml.graphdrawing.or...  "
      ],
      "text/html": [
       "<div>\n",
       "<style scoped>\n",
       "    .dataframe tbody tr th:only-of-type {\n",
       "        vertical-align: middle;\n",
       "    }\n",
       "\n",
       "    .dataframe tbody tr th {\n",
       "        vertical-align: top;\n",
       "    }\n",
       "\n",
       "    .dataframe thead th {\n",
       "        text-align: right;\n",
       "    }\n",
       "</style>\n",
       "<table border=\"1\" class=\"dataframe\">\n",
       "  <thead>\n",
       "    <tr style=\"text-align: right;\">\n",
       "      <th></th>\n",
       "      <th>context</th>\n",
       "      <th>query</th>\n",
       "      <th>question</th>\n",
       "      <th>code</th>\n",
       "      <th>formula</th>\n",
       "      <th>answer</th>\n",
       "      <th>graph</th>\n",
       "    </tr>\n",
       "  </thead>\n",
       "  <tbody>\n",
       "    <tr>\n",
       "      <th>0</th>\n",
       "      <td>Initially, event3 happened. After event1, even...</td>\n",
       "      <td>C1: Event1 happens or event2 happens.\\nC2: C1 ...</td>\n",
       "      <td>=== Context ===\\n\\nInitially, event3 happened....</td>\n",
       "      <td>MODULE main\\nVAR\\n    state : {event1, event2,...</td>\n",
       "      <td>(X ((event1 | event2) &amp; event1))</td>\n",
       "      <td>True</td>\n",
       "      <td>&lt;graphml xmlns=\"http://graphml.graphdrawing.or...</td>\n",
       "    </tr>\n",
       "    <tr>\n",
       "      <th>1</th>\n",
       "      <td>Initially, event1 happened. After event3, no o...</td>\n",
       "      <td>C1: Event2 will happen eventually.\\nC2: That e...</td>\n",
       "      <td>=== Context ===\\n\\nInitially, event1 happened....</td>\n",
       "      <td>MODULE main\\nVAR\\n    state : {event1, event2,...</td>\n",
       "      <td>(G (event2 -&gt; (F event2)))</td>\n",
       "      <td>True</td>\n",
       "      <td>&lt;graphml xmlns=\"http://graphml.graphdrawing.or...</td>\n",
       "    </tr>\n",
       "    <tr>\n",
       "      <th>2</th>\n",
       "      <td>Initially, event2 happened. After event2, even...</td>\n",
       "      <td>C1: Event3 will happen at next time.\\nC2: Even...</td>\n",
       "      <td>=== Context ===\\n\\nInitially, event2 happened....</td>\n",
       "      <td>MODULE main\\nVAR\\n    state : {event1, event2,...</td>\n",
       "      <td>((X event3) -&gt; (X event3))</td>\n",
       "      <td>True</td>\n",
       "      <td>&lt;graphml xmlns=\"http://graphml.graphdrawing.or...</td>\n",
       "    </tr>\n",
       "    <tr>\n",
       "      <th>3</th>\n",
       "      <td>Initially, event3 happened. After event1, even...</td>\n",
       "      <td>C1: Event2 happens and event3 happens.\\nC2: Ev...</td>\n",
       "      <td>=== Context ===\\n\\nInitially, event3 happened....</td>\n",
       "      <td>MODULE main\\nVAR\\n    state : {event1, event2,...</td>\n",
       "      <td>(! (event1 | (event2 &amp; event3)))</td>\n",
       "      <td>True</td>\n",
       "      <td>&lt;graphml xmlns=\"http://graphml.graphdrawing.or...</td>\n",
       "    </tr>\n",
       "    <tr>\n",
       "      <th>4</th>\n",
       "      <td>Initially, event2 happened. After event1, even...</td>\n",
       "      <td>C1: Event3 happens or event3 happens.\\nC2: C1 ...</td>\n",
       "      <td>=== Context ===\\n\\nInitially, event2 happened....</td>\n",
       "      <td>MODULE main\\nVAR\\n    state : {event1, event2,...</td>\n",
       "      <td>(! ((event3 | event3) | event1))</td>\n",
       "      <td>True</td>\n",
       "      <td>&lt;graphml xmlns=\"http://graphml.graphdrawing.or...</td>\n",
       "    </tr>\n",
       "    <tr>\n",
       "      <th>5</th>\n",
       "      <td>Initially, event2 happened. After event1, even...</td>\n",
       "      <td>C1: Event2 happens and event3 happens.\\nC2: C1...</td>\n",
       "      <td>=== Context ===\\n\\nInitially, event2 happened....</td>\n",
       "      <td>MODULE main\\nVAR\\n    state : {event1, event2,...</td>\n",
       "      <td>(event1 -&gt; ((event2 &amp; event3) | event3))</td>\n",
       "      <td>True</td>\n",
       "      <td>&lt;graphml xmlns=\"http://graphml.graphdrawing.or...</td>\n",
       "    </tr>\n",
       "    <tr>\n",
       "      <th>6</th>\n",
       "      <td>Initially, event2 happened. After event3, even...</td>\n",
       "      <td>C1: Event1 happens or event1 happens.\\nC2: C1 ...</td>\n",
       "      <td>=== Context ===\\n\\nInitially, event2 happened....</td>\n",
       "      <td>MODULE main\\nVAR\\n    state : {event1, event2,...</td>\n",
       "      <td>(! ((event1 | event1) &amp; event1))</td>\n",
       "      <td>True</td>\n",
       "      <td>&lt;graphml xmlns=\"http://graphml.graphdrawing.or...</td>\n",
       "    </tr>\n",
       "    <tr>\n",
       "      <th>7</th>\n",
       "      <td>Initially, event3 happened. After event1, no o...</td>\n",
       "      <td>C1: Event2 happens or event2 happens.\\nC2: C1 ...</td>\n",
       "      <td>=== Context ===\\n\\nInitially, event3 happened....</td>\n",
       "      <td>MODULE main\\nVAR\\n    state : {event1, event2,...</td>\n",
       "      <td>(! (G (event2 | event2)))</td>\n",
       "      <td>True</td>\n",
       "      <td>&lt;graphml xmlns=\"http://graphml.graphdrawing.or...</td>\n",
       "    </tr>\n",
       "    <tr>\n",
       "      <th>8</th>\n",
       "      <td>Initially, event3 happened. After event1, even...</td>\n",
       "      <td>C1: Event2 does not happen.\\nC2: Event2 does n...</td>\n",
       "      <td>=== Context ===\\n\\nInitially, event3 happened....</td>\n",
       "      <td>MODULE main\\nVAR\\n    state : {event1, event2,...</td>\n",
       "      <td>((! event2) &amp; (! event2))</td>\n",
       "      <td>True</td>\n",
       "      <td>&lt;graphml xmlns=\"http://graphml.graphdrawing.or...</td>\n",
       "    </tr>\n",
       "    <tr>\n",
       "      <th>9</th>\n",
       "      <td>Initially, event3 happened. After event3, no o...</td>\n",
       "      <td>C1: Event3 will happen eventually.\\nC2: C1 wil...</td>\n",
       "      <td>=== Context ===\\n\\nInitially, event3 happened....</td>\n",
       "      <td>MODULE main\\nVAR\\n    state : {event1, event2,...</td>\n",
       "      <td>(X (G (F event3)))</td>\n",
       "      <td>True</td>\n",
       "      <td>&lt;graphml xmlns=\"http://graphml.graphdrawing.or...</td>\n",
       "    </tr>\n",
       "  </tbody>\n",
       "</table>\n",
       "</div>"
      ]
     },
     "execution_count": 147,
     "metadata": {},
     "output_type": "execute_result"
    }
   ],
   "execution_count": 147
  },
  {
   "metadata": {
    "ExecuteTime": {
     "end_time": "2024-06-22T23:34:13.921384Z",
     "start_time": "2024-06-22T23:34:13.915650Z"
    }
   },
   "cell_type": "code",
   "source": "data['answer'].value_counts()",
   "id": "d9123b68038ea23d",
   "outputs": [
    {
     "data": {
      "text/plain": [
       "answer\n",
       "True     150\n",
       "False    150\n",
       "Name: count, dtype: int64"
      ]
     },
     "execution_count": 148,
     "metadata": {},
     "output_type": "execute_result"
    }
   ],
   "execution_count": 148
  },
  {
   "metadata": {
    "ExecuteTime": {
     "end_time": "2024-06-22T12:44:11.272746Z",
     "start_time": "2024-06-22T12:44:11.215480Z"
    }
   },
   "cell_type": "code",
   "source": [
    "from matplotlib import pyplot as plt\n",
    "import networkx as nx\n",
    "import io\n",
    "\n",
    "graph = nx.read_graphml(io.StringIO(data.loc[0, 'graph']))\n",
    "nx.draw(graph, with_labels=True, font_weight='bold', node_size=3000)\n",
    "plt.show()"
   ],
   "id": "635a782a5bac94e3",
   "outputs": [
    {
     "data": {
      "text/plain": [
       "<Figure size 640x480 with 1 Axes>"
      ],
      "image/png": "[encoded data removed]"
     },
     "metadata": {},
     "output_type": "display_data"
    }
   ],
   "execution_count": 94
  },
  {
   "metadata": {
    "ExecuteTime": {
     "end_time": "2024-06-22T12:44:11.275435Z",
     "start_time": "2024-06-22T12:44:11.273577Z"
    }
   },
   "cell_type": "code",
   "source": "print(data.loc[0, 'code'])\n",
   "id": "ae072c856024848a",
   "outputs": [
    {
     "name": "stdout",
     "output_type": "stream",
     "text": [
      "MODULE main\n",
      "VAR\n",
      "    state : {event1, event2, event3};\n",
      "ASSIGN\n",
      "    init(state) := event3;\n",
      "    next(state) := case\n",
      "        state = event1 : event2;\n",
      "\t\tstate = event2 : event1;\n",
      "\t\tstate = event3 : event1;\n",
      "    esac;\n",
      "LTLSPEC (X (((state=event1) | (state=event2)) & (state=event1)))\n",
      "\n"
     ]
    }
   ],
   "execution_count": 95
  },
  {
   "metadata": {
    "ExecuteTime": {
     "end_time": "2024-06-22T12:44:11.277531Z",
     "start_time": "2024-06-22T12:44:11.276001Z"
    }
   },
   "cell_type": "code",
   "source": "print(data.loc[0, 'question'])",
   "id": "97756ceb71ab62c1",
   "outputs": [
    {
     "name": "stdout",
     "output_type": "stream",
     "text": [
      "=== Context ===\n",
      "\n",
      "Initially, event3 happened. After event1, event2 will happen. After event2, event1 will happen. After event3, event1 will happen.\n",
      "\n",
      "=== Hypothesis ===\n",
      "\n",
      "C1: Event1 happens or event2 happens.\n",
      "C2: C1 holds and event1 happens.\n",
      "C3: C2 will happen at next time.\n",
      "\n",
      "Determine whether the case C3 is true or false (answering in \"true\" or \"false\" directly):\n",
      "\n"
     ]
    }
   ],
   "execution_count": 96
  },
  {
   "metadata": {
    "ExecuteTime": {
     "end_time": "2024-06-22T12:44:11.280055Z",
     "start_time": "2024-06-22T12:44:11.278224Z"
    }
   },
   "cell_type": "code",
   "source": "print()",
   "id": "da319d660da23897",
   "outputs": [
    {
     "name": "stdout",
     "output_type": "stream",
     "text": [
      "\n"
     ]
    }
   ],
   "execution_count": 97
  },
  {
   "metadata": {
    "ExecuteTime": {
     "end_time": "2024-06-22T12:44:11.282218Z",
     "start_time": "2024-06-22T12:44:11.280676Z"
    }
   },
   "cell_type": "code",
   "source": "print(\"[np.str_('X'), [['event1', np.str_('|'), 'event2'], np.str_('&'), 'event1']]\")",
   "id": "e61ee72666bda433",
   "outputs": [
    {
     "name": "stdout",
     "output_type": "stream",
     "text": [
      "[np.str_('X'), [['event1', np.str_('|'), 'event2'], np.str_('&'), 'event1']]\n"
     ]
    }
   ],
   "execution_count": 98
  },
  {
   "metadata": {
    "ExecuteTime": {
     "end_time": "2024-06-22T22:49:08.318919Z",
     "start_time": "2024-06-22T22:49:08.315081Z"
    }
   },
   "cell_type": "code",
   "source": [
    "import re\n",
    "\n",
    "message = \"True\"\n",
    "pattern = r'(true|false)'\n",
    "result = re.search(pattern, message, flags=re.IGNORECASE)\n",
    "result.group(0)"
   ],
   "id": "d616dc2c06ba1b8f",
   "outputs": [
    {
     "data": {
      "text/plain": [
       "'True'"
      ]
     },
     "execution_count": 116,
     "metadata": {},
     "output_type": "execute_result"
    }
   ],
   "execution_count": 116
  },
  {
   "metadata": {},
   "cell_type": "code",
   "outputs": [],
   "execution_count": null,
   "source": "",
   "id": "8094c72efa89bb26"
  }
 ],
 "metadata": {
  "kernelspec": {
   "display_name": "Python 3",
   "language": "python",
   "name": "python3"
  },
  "language_info": {
   "codemirror_mode": {
    "name": "ipython",
    "version": 2
   },
   "file_extension": ".py",
   "mimetype": "text/x-python",
   "name": "python",
   "nbconvert_exporter": "python",
   "pygments_lexer": "ipython2",
   "version": "2.7.6"
  }
 },
 "nbformat": 4,
 "nbformat_minor": 5
}
