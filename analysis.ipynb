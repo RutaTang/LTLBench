{
 "cells": [
  {
   "cell_type": "code",
   "id": "initial_id",
   "metadata": {
    "collapsed": true,
    "ExecuteTime": {
     "end_time": "2024-06-20T19:42:11.009277Z",
     "start_time": "2024-06-20T19:42:10.366651Z"
    }
   },
   "source": [
    "import networkx as nx\n",
    "import matplotlib.pyplot as plt\n",
    "import random\n",
    "\n",
    "\n",
    "def generate_random_directed_graph(nodes, possible_edges, edge_inclusion_prob=0.5):\n",
    "    \"\"\"\n",
    "    Generates a random directed graph based on a given set of nodes and possible directed edges.\n",
    "    \n",
    "    Parameters:\n",
    "        nodes (list): List of nodes in the graph.\n",
    "        possible_edges (list of tuples): List of possible directed edges (tuples of nodes).\n",
    "        edge_inclusion_bit (float): Probability with which each possible edge is included in the graph.\n",
    "        \n",
    "    Returns:\n",
    "        G (networkx.DiGraph): The generated random directed graph.\n",
    "    \"\"\"\n",
    "    # Create an empty directed graph\n",
    "    G = nx.DiGraph()\n",
    "\n",
    "    # Add nodes to the graph\n",
    "    G.add_nodes_from(nodes)\n",
    "\n",
    "    # Add directed edges randomly based on the inclusion probability\n",
    "    for edge in possible_edges:\n",
    "        if random.random() < edge_inclusion_prob:\n",
    "            G.add_edge(*edge)\n",
    "\n",
    "    return G\n",
    "\n",
    "\n",
    "def visualize_directed_graph(G):\n",
    "    \"\"\"\n",
    "    Visualizes the given directed graph using matplotlib.\n",
    "    \n",
    "    Parameters:\n",
    "        G (networkx.DiGraph): The graph to be visualized.\n",
    "    \"\"\"\n",
    "    pos = nx.spring_layout(G)  # positions for all nodes\n",
    "    nx.draw(G, pos, with_labels=True, node_color='lightblue', node_size=2000, edge_color='gray', width=2, arrows=True)\n",
    "    plt.title('Random Directed Graph Visualization')\n",
    "    plt.show()\n",
    "\n",
    "\n",
    "# Example Usage\n",
    "nodes = ['A', 'B', 'C', 'D', 'E']\n",
    "possible_edges = [('A', 'B'), ('B', 'C'), ('C', 'A'), ('C', 'D'), ('D', 'E'), ('E', 'A')]\n",
    "edge_inclusion_prob = 0.5  # 50% chance to include each edge\n",
    "\n",
    "# Generate the directed graph\n",
    "random_directed_graph = generate_random_directed_graph(nodes, possible_edges, edge_inclusion_prob)\n",
    "\n",
    "# Visualize the directed graph\n",
    "visualize_directed_graph(random_directed_graph)"
   ],
   "outputs": [
    {
     "data": {
      "text/plain": [
       "<Figure size 640x480 with 1 Axes>"
      ],
      "image/png": "[encoded data removed]"
     },
     "metadata": {},
     "output_type": "display_data"
    }
   ],
   "execution_count": 1
  },
  {
   "metadata": {
    "ExecuteTime": {
     "end_time": "2024-06-20T19:42:11.012717Z",
     "start_time": "2024-06-20T19:42:11.010813Z"
    }
   },
   "cell_type": "code",
   "source": "",
   "id": "872026b5ec8bbe05",
   "outputs": [],
   "execution_count": 1
  },
  {
   "metadata": {
    "ExecuteTime": {
     "end_time": "2024-06-21T18:22:22.758998Z",
     "start_time": "2024-06-21T18:22:22.749794Z"
    }
   },
   "cell_type": "code",
   "source": [
    "from src.utils.file import get_evaluation_file_path, get_data_file_path\n",
    "import pandas as pd\n",
    "\n",
    "data = pd.read_csv(get_evaluation_file_path(event_n=3,formula_n=3,count=100,model=\"qwen:32b-chat\"))\n",
    "len(data[data['answer'] == data['prediction']])/len(data)"
   ],
   "id": "4cd212199c75035",
   "outputs": [
    {
     "data": {
      "text/plain": [
       "0.65"
      ]
     },
     "execution_count": 27,
     "metadata": {},
     "output_type": "execute_result"
    }
   ],
   "execution_count": 27
  },
  {
   "metadata": {
    "ExecuteTime": {
     "end_time": "2024-06-20T23:07:51.076292Z",
     "start_time": "2024-06-20T23:07:51.067229Z"
    }
   },
   "cell_type": "code",
   "source": "data",
   "id": "a61f2fab30b3c25c",
   "outputs": [
    {
     "data": {
      "text/plain": [
       "                                               context  \\\n",
       "0    Initially, event1 is happened. After event1, e...   \n",
       "1    Initially, event2 is happened. After Event eve...   \n",
       "2    Initially, event2 is happened. After event1, e...   \n",
       "3    Initially, event2 is happened. After event2, e...   \n",
       "4    Initially, event3 is happened. After event2, e...   \n",
       "..                                                 ...   \n",
       "495  Initially, event3 is happened. After event1, e...   \n",
       "496  Initially, event3 is happened. After Event eve...   \n",
       "497  Initially, event2 is happened. After event3, e...   \n",
       "498  Initially, event1 is happened. After event3, e...   \n",
       "499  Initially, event2 is happened. After Event eve...   \n",
       "\n",
       "                                                 query  \\\n",
       "0    Determine whether the following statement is t...   \n",
       "1    Determine whether the following statement is t...   \n",
       "2    Determine whether the following statement is t...   \n",
       "3    Determine whether the following statement is t...   \n",
       "4    Determine whether the following statement is t...   \n",
       "..                                                 ...   \n",
       "495  Determine whether the following statement is t...   \n",
       "496  Determine whether the following statement is t...   \n",
       "497  Determine whether the following statement is t...   \n",
       "498  Determine whether the following statement is t...   \n",
       "499  Determine whether the following statement is t...   \n",
       "\n",
       "                                                  code  answer  prediction  \n",
       "0    MODULE main\\nVAR\\n    state : {event1, event2,...    True        True  \n",
       "1    MODULE main\\nVAR\\n    state : {event1, event2,...    True        True  \n",
       "2    MODULE main\\nVAR\\n    state : {event1, event2,...    True        True  \n",
       "3    MODULE main\\nVAR\\n    state : {event1, event2,...   False       False  \n",
       "4    MODULE main\\nVAR\\n    state : {event1, event2,...   False       False  \n",
       "..                                                 ...     ...         ...  \n",
       "495  MODULE main\\nVAR\\n    state : {event1, event2,...    True        True  \n",
       "496  MODULE main\\nVAR\\n    state : {event1, event2,...    True        True  \n",
       "497  MODULE main\\nVAR\\n    state : {event1, event2,...   False       False  \n",
       "498  MODULE main\\nVAR\\n    state : {event1, event2,...    True        True  \n",
       "499  MODULE main\\nVAR\\n    state : {event1, event2,...    True       False  \n",
       "\n",
       "[500 rows x 5 columns]"
      ],
      "text/html": [
       "<div>\n",
       "<style scoped>\n",
       "    .dataframe tbody tr th:only-of-type {\n",
       "        vertical-align: middle;\n",
       "    }\n",
       "\n",
       "    .dataframe tbody tr th {\n",
       "        vertical-align: top;\n",
       "    }\n",
       "\n",
       "    .dataframe thead th {\n",
       "        text-align: right;\n",
       "    }\n",
       "</style>\n",
       "<table border=\"1\" class=\"dataframe\">\n",
       "  <thead>\n",
       "    <tr style=\"text-align: right;\">\n",
       "      <th></th>\n",
       "      <th>context</th>\n",
       "      <th>query</th>\n",
       "      <th>code</th>\n",
       "      <th>answer</th>\n",
       "      <th>prediction</th>\n",
       "    </tr>\n",
       "  </thead>\n",
       "  <tbody>\n",
       "    <tr>\n",
       "      <th>0</th>\n",
       "      <td>Initially, event1 is happened. After event1, e...</td>\n",
       "      <td>Determine whether the following statement is t...</td>\n",
       "      <td>MODULE main\\nVAR\\n    state : {event1, event2,...</td>\n",
       "      <td>True</td>\n",
       "      <td>True</td>\n",
       "    </tr>\n",
       "    <tr>\n",
       "      <th>1</th>\n",
       "      <td>Initially, event2 is happened. After Event eve...</td>\n",
       "      <td>Determine whether the following statement is t...</td>\n",
       "      <td>MODULE main\\nVAR\\n    state : {event1, event2,...</td>\n",
       "      <td>True</td>\n",
       "      <td>True</td>\n",
       "    </tr>\n",
       "    <tr>\n",
       "      <th>2</th>\n",
       "      <td>Initially, event2 is happened. After event1, e...</td>\n",
       "      <td>Determine whether the following statement is t...</td>\n",
       "      <td>MODULE main\\nVAR\\n    state : {event1, event2,...</td>\n",
       "      <td>True</td>\n",
       "      <td>True</td>\n",
       "    </tr>\n",
       "    <tr>\n",
       "      <th>3</th>\n",
       "      <td>Initially, event2 is happened. After event2, e...</td>\n",
       "      <td>Determine whether the following statement is t...</td>\n",
       "      <td>MODULE main\\nVAR\\n    state : {event1, event2,...</td>\n",
       "      <td>False</td>\n",
       "      <td>False</td>\n",
       "    </tr>\n",
       "    <tr>\n",
       "      <th>4</th>\n",
       "      <td>Initially, event3 is happened. After event2, e...</td>\n",
       "      <td>Determine whether the following statement is t...</td>\n",
       "      <td>MODULE main\\nVAR\\n    state : {event1, event2,...</td>\n",
       "      <td>False</td>\n",
       "      <td>False</td>\n",
       "    </tr>\n",
       "    <tr>\n",
       "      <th>...</th>\n",
       "      <td>...</td>\n",
       "      <td>...</td>\n",
       "      <td>...</td>\n",
       "      <td>...</td>\n",
       "      <td>...</td>\n",
       "    </tr>\n",
       "    <tr>\n",
       "      <th>495</th>\n",
       "      <td>Initially, event3 is happened. After event1, e...</td>\n",
       "      <td>Determine whether the following statement is t...</td>\n",
       "      <td>MODULE main\\nVAR\\n    state : {event1, event2,...</td>\n",
       "      <td>True</td>\n",
       "      <td>True</td>\n",
       "    </tr>\n",
       "    <tr>\n",
       "      <th>496</th>\n",
       "      <td>Initially, event3 is happened. After Event eve...</td>\n",
       "      <td>Determine whether the following statement is t...</td>\n",
       "      <td>MODULE main\\nVAR\\n    state : {event1, event2,...</td>\n",
       "      <td>True</td>\n",
       "      <td>True</td>\n",
       "    </tr>\n",
       "    <tr>\n",
       "      <th>497</th>\n",
       "      <td>Initially, event2 is happened. After event3, e...</td>\n",
       "      <td>Determine whether the following statement is t...</td>\n",
       "      <td>MODULE main\\nVAR\\n    state : {event1, event2,...</td>\n",
       "      <td>False</td>\n",
       "      <td>False</td>\n",
       "    </tr>\n",
       "    <tr>\n",
       "      <th>498</th>\n",
       "      <td>Initially, event1 is happened. After event3, e...</td>\n",
       "      <td>Determine whether the following statement is t...</td>\n",
       "      <td>MODULE main\\nVAR\\n    state : {event1, event2,...</td>\n",
       "      <td>True</td>\n",
       "      <td>True</td>\n",
       "    </tr>\n",
       "    <tr>\n",
       "      <th>499</th>\n",
       "      <td>Initially, event2 is happened. After Event eve...</td>\n",
       "      <td>Determine whether the following statement is t...</td>\n",
       "      <td>MODULE main\\nVAR\\n    state : {event1, event2,...</td>\n",
       "      <td>True</td>\n",
       "      <td>False</td>\n",
       "    </tr>\n",
       "  </tbody>\n",
       "</table>\n",
       "<p>500 rows × 5 columns</p>\n",
       "</div>"
      ]
     },
     "execution_count": 6,
     "metadata": {},
     "output_type": "execute_result"
    }
   ],
   "execution_count": 6
  },
  {
   "metadata": {
    "ExecuteTime": {
     "end_time": "2024-06-21T18:20:08.552803Z",
     "start_time": "2024-06-21T18:20:08.547442Z"
    }
   },
   "cell_type": "code",
   "source": [
    "path = get_data_file_path(event_n=3, formula_n=3, count=100)\n",
    "data = pd.read_csv(path)\n",
    "data.head(10)"
   ],
   "id": "896c2aa1ab5d2151",
   "outputs": [
    {
     "data": {
      "text/plain": [
       "                                             context  \\\n",
       "0  Initially, event1 is happened. After event1, e...   \n",
       "1  Initially, event2 is happened. After event2, n...   \n",
       "2  Initially, event2 is happened. After event1, e...   \n",
       "3  Initially, event2 is happened. After event2, e...   \n",
       "4  Initially, event3 is happened. After event2, e...   \n",
       "5  Initially, event2 is happened. After event2, e...   \n",
       "6  Initially, event2 is happened. After event3, e...   \n",
       "7  Initially, event1 is happened. After event1, e...   \n",
       "8  Initially, event2 is happened. After event2, e...   \n",
       "9  Initially, event3 is happened. After event3, e...   \n",
       "\n",
       "                                               query  \\\n",
       "0  Determine whether the following statement is t...   \n",
       "1  Determine whether the following statement is t...   \n",
       "2  Determine whether the following statement is t...   \n",
       "3  Determine whether the following statement is t...   \n",
       "4  Determine whether the following statement is t...   \n",
       "5  Determine whether the following statement is t...   \n",
       "6  Determine whether the following statement is t...   \n",
       "7  Determine whether the following statement is t...   \n",
       "8  Determine whether the following statement is t...   \n",
       "9  Determine whether the following statement is t...   \n",
       "\n",
       "                                                code  answer  \n",
       "0  MODULE main\\nVAR\\n    state : {event1, event2,...    True  \n",
       "1  MODULE main\\nVAR\\n    state : {event1, event2,...    True  \n",
       "2  MODULE main\\nVAR\\n    state : {event1, event2,...    True  \n",
       "3  MODULE main\\nVAR\\n    state : {event1, event2,...   False  \n",
       "4  MODULE main\\nVAR\\n    state : {event1, event2,...   False  \n",
       "5  MODULE main\\nVAR\\n    state : {event1, event2,...   False  \n",
       "6  MODULE main\\nVAR\\n    state : {event1, event2,...    True  \n",
       "7  MODULE main\\nVAR\\n    state : {event1, event2,...    True  \n",
       "8  MODULE main\\nVAR\\n    state : {event1, event2,...   False  \n",
       "9  MODULE main\\nVAR\\n    state : {event1, event2,...   False  "
      ],
      "text/html": [
       "<div>\n",
       "<style scoped>\n",
       "    .dataframe tbody tr th:only-of-type {\n",
       "        vertical-align: middle;\n",
       "    }\n",
       "\n",
       "    .dataframe tbody tr th {\n",
       "        vertical-align: top;\n",
       "    }\n",
       "\n",
       "    .dataframe thead th {\n",
       "        text-align: right;\n",
       "    }\n",
       "</style>\n",
       "<table border=\"1\" class=\"dataframe\">\n",
       "  <thead>\n",
       "    <tr style=\"text-align: right;\">\n",
       "      <th></th>\n",
       "      <th>context</th>\n",
       "      <th>query</th>\n",
       "      <th>code</th>\n",
       "      <th>answer</th>\n",
       "    </tr>\n",
       "  </thead>\n",
       "  <tbody>\n",
       "    <tr>\n",
       "      <th>0</th>\n",
       "      <td>Initially, event1 is happened. After event1, e...</td>\n",
       "      <td>Determine whether the following statement is t...</td>\n",
       "      <td>MODULE main\\nVAR\\n    state : {event1, event2,...</td>\n",
       "      <td>True</td>\n",
       "    </tr>\n",
       "    <tr>\n",
       "      <th>1</th>\n",
       "      <td>Initially, event2 is happened. After event2, n...</td>\n",
       "      <td>Determine whether the following statement is t...</td>\n",
       "      <td>MODULE main\\nVAR\\n    state : {event1, event2,...</td>\n",
       "      <td>True</td>\n",
       "    </tr>\n",
       "    <tr>\n",
       "      <th>2</th>\n",
       "      <td>Initially, event2 is happened. After event1, e...</td>\n",
       "      <td>Determine whether the following statement is t...</td>\n",
       "      <td>MODULE main\\nVAR\\n    state : {event1, event2,...</td>\n",
       "      <td>True</td>\n",
       "    </tr>\n",
       "    <tr>\n",
       "      <th>3</th>\n",
       "      <td>Initially, event2 is happened. After event2, e...</td>\n",
       "      <td>Determine whether the following statement is t...</td>\n",
       "      <td>MODULE main\\nVAR\\n    state : {event1, event2,...</td>\n",
       "      <td>False</td>\n",
       "    </tr>\n",
       "    <tr>\n",
       "      <th>4</th>\n",
       "      <td>Initially, event3 is happened. After event2, e...</td>\n",
       "      <td>Determine whether the following statement is t...</td>\n",
       "      <td>MODULE main\\nVAR\\n    state : {event1, event2,...</td>\n",
       "      <td>False</td>\n",
       "    </tr>\n",
       "    <tr>\n",
       "      <th>5</th>\n",
       "      <td>Initially, event2 is happened. After event2, e...</td>\n",
       "      <td>Determine whether the following statement is t...</td>\n",
       "      <td>MODULE main\\nVAR\\n    state : {event1, event2,...</td>\n",
       "      <td>False</td>\n",
       "    </tr>\n",
       "    <tr>\n",
       "      <th>6</th>\n",
       "      <td>Initially, event2 is happened. After event3, e...</td>\n",
       "      <td>Determine whether the following statement is t...</td>\n",
       "      <td>MODULE main\\nVAR\\n    state : {event1, event2,...</td>\n",
       "      <td>True</td>\n",
       "    </tr>\n",
       "    <tr>\n",
       "      <th>7</th>\n",
       "      <td>Initially, event1 is happened. After event1, e...</td>\n",
       "      <td>Determine whether the following statement is t...</td>\n",
       "      <td>MODULE main\\nVAR\\n    state : {event1, event2,...</td>\n",
       "      <td>True</td>\n",
       "    </tr>\n",
       "    <tr>\n",
       "      <th>8</th>\n",
       "      <td>Initially, event2 is happened. After event2, e...</td>\n",
       "      <td>Determine whether the following statement is t...</td>\n",
       "      <td>MODULE main\\nVAR\\n    state : {event1, event2,...</td>\n",
       "      <td>False</td>\n",
       "    </tr>\n",
       "    <tr>\n",
       "      <th>9</th>\n",
       "      <td>Initially, event3 is happened. After event3, e...</td>\n",
       "      <td>Determine whether the following statement is t...</td>\n",
       "      <td>MODULE main\\nVAR\\n    state : {event1, event2,...</td>\n",
       "      <td>False</td>\n",
       "    </tr>\n",
       "  </tbody>\n",
       "</table>\n",
       "</div>"
      ]
     },
     "execution_count": 25,
     "metadata": {},
     "output_type": "execute_result"
    }
   ],
   "execution_count": 25
  },
  {
   "metadata": {
    "ExecuteTime": {
     "end_time": "2024-06-20T20:13:53.661427Z",
     "start_time": "2024-06-20T20:13:53.658063Z"
    }
   },
   "cell_type": "code",
   "source": [
    "import numpy as np\n",
    "\n",
    "np.random.choice(3)"
   ],
   "id": "ae072c856024848a",
   "outputs": [
    {
     "data": {
      "text/plain": [
       "0"
      ]
     },
     "execution_count": 23,
     "metadata": {},
     "output_type": "execute_result"
    }
   ],
   "execution_count": 23
  },
  {
   "metadata": {
    "ExecuteTime": {
     "end_time": "2024-06-20T20:26:40.912814Z",
     "start_time": "2024-06-20T20:26:40.908696Z"
    }
   },
   "cell_type": "code",
   "source": "list({1,2,3})",
   "id": "97756ceb71ab62c1",
   "outputs": [
    {
     "data": {
      "text/plain": [
       "[1, 2, 3]"
      ]
     },
     "execution_count": 39,
     "metadata": {},
     "output_type": "execute_result"
    }
   ],
   "execution_count": 39
  },
  {
   "metadata": {},
   "cell_type": "code",
   "outputs": [],
   "execution_count": null,
   "source": "",
   "id": "14a3f6aac09864e1"
  }
 ],
 "metadata": {
  "kernelspec": {
   "display_name": "Python 3",
   "language": "python",
   "name": "python3"
  },
  "language_info": {
   "codemirror_mode": {
    "name": "ipython",
    "version": 2
   },
   "file_extension": ".py",
   "mimetype": "text/x-python",
   "name": "python",
   "nbconvert_exporter": "python",
   "pygments_lexer": "ipython2",
   "version": "2.7.6"
  }
 },
 "nbformat": 4,
 "nbformat_minor": 5
}
